{
 "cells": [
  {
   "cell_type": "markdown",
   "metadata": {
    "id": "lP6JLo1tGNBg"
   },
   "source": [
    "# Artificial Neural Network"
   ]
  },
  {
   "cell_type": "markdown",
   "metadata": {
    "id": "gWZyYmS_UE_L"
   },
   "source": [
    "### Importing the libraries"
   ]
  },
  {
   "cell_type": "code",
   "execution_count": 1,
   "metadata": {
    "id": "MxkJoQBkUIHC"
   },
   "outputs": [],
   "source": [
    "import numpy as np\n",
    "import pandas as pd\n",
    "import tensorflow as tf"
   ]
  },
  {
   "cell_type": "code",
   "execution_count": 2,
   "metadata": {
    "colab": {
     "base_uri": "https://localhost:8080/",
     "height": 35
    },
    "id": "ZaTwK7ojXr2F",
    "outputId": "707549b2-8588-42d4-894f-82b4de22e855"
   },
   "outputs": [
    {
     "data": {
      "application/vnd.google.colaboratory.intrinsic+json": {
       "type": "string"
      },
      "text/plain": [
       "'2.4.1'"
      ]
     },
     "execution_count": 2,
     "metadata": {
      "tags": []
     },
     "output_type": "execute_result"
    }
   ],
   "source": [
    "tf.__version__"
   ]
  },
  {
   "cell_type": "markdown",
   "metadata": {
    "id": "1E0Q3aoKUCRX"
   },
   "source": [
    "## Part 1 - Data Preprocessing"
   ]
  },
  {
   "cell_type": "markdown",
   "metadata": {
    "id": "cKWAkFVGUU0Z"
   },
   "source": [
    "### Importing the dataset"
   ]
  },
  {
   "cell_type": "code",
   "execution_count": 3,
   "metadata": {
    "id": "MXUkhkMfU4wq"
   },
   "outputs": [],
   "source": [
    "dataset = pd.read_csv('BankChurners.csv')\n",
    "X = dataset.iloc[:, 1:-1].values\n",
    "y = dataset.iloc[:, -1].values"
   ]
  },
  {
   "cell_type": "code",
   "execution_count": 4,
   "metadata": {
    "colab": {
     "base_uri": "https://localhost:8080/"
    },
    "id": "VYP9cQTWbzuI",
    "outputId": "7976fa6d-03ad-4ca8-986a-e924735e9c5f"
   },
   "outputs": [
    {
     "name": "stdout",
     "output_type": "stream",
     "text": [
      "[[45 'M' 3 ... 42 1.625 0.061]\n",
      " [49 'F' 5 ... 33 3.714 0.105]\n",
      " [51 'M' 3 ... 20 2.333 0.0]\n",
      " ...\n",
      " [44 'F' 1 ... 60 0.818 0.0]\n",
      " [30 'M' 2 ... 62 0.722 0.0]\n",
      " [43 'F' 2 ... 61 0.649 0.18899999999999997]]\n"
     ]
    }
   ],
   "source": [
    "print(X)"
   ]
  },
  {
   "cell_type": "code",
   "execution_count": 5,
   "metadata": {
    "colab": {
     "base_uri": "https://localhost:8080/"
    },
    "id": "38vKGE6Nb2RR",
    "outputId": "09454532-a2f6-4a5c-8890-242a94b903cb"
   },
   "outputs": [
    {
     "name": "stdout",
     "output_type": "stream",
     "text": [
      "[1 1 1 ... 0 0 0]\n"
     ]
    }
   ],
   "source": [
    "print(y)"
   ]
  },
  {
   "cell_type": "markdown",
   "metadata": {
    "id": "N6bQ0UgSU-NJ"
   },
   "source": [
    "### Encoding categorical data"
   ]
  },
  {
   "cell_type": "markdown",
   "metadata": {
    "id": "le5MJreAbW52"
   },
   "source": [
    "Label Encoding the \"Gender\" column"
   ]
  },
  {
   "cell_type": "code",
   "execution_count": 6,
   "metadata": {
    "id": "PxVKWXxLbczC"
   },
   "outputs": [],
   "source": [
    "from sklearn.preprocessing import LabelEncoder\n",
    "le = LabelEncoder()\n",
    "X[:, 1] = le.fit_transform(X[:, 1])"
   ]
  },
  {
   "cell_type": "code",
   "execution_count": 7,
   "metadata": {
    "colab": {
     "base_uri": "https://localhost:8080/"
    },
    "id": "-M1KboxFb6OO",
    "outputId": "cd3a3c71-3afa-4f06-89b7-c8f7f0267e71"
   },
   "outputs": [
    {
     "name": "stdout",
     "output_type": "stream",
     "text": [
      "[[45 1 3 ... 42 1.625 0.061]\n",
      " [49 0 5 ... 33 3.714 0.105]\n",
      " [51 1 3 ... 20 2.333 0.0]\n",
      " ...\n",
      " [44 0 1 ... 60 0.818 0.0]\n",
      " [30 1 2 ... 62 0.722 0.0]\n",
      " [43 0 2 ... 61 0.649 0.18899999999999997]]\n"
     ]
    }
   ],
   "source": [
    "print(X)"
   ]
  },
  {
   "cell_type": "code",
   "execution_count": 8,
   "metadata": {
    "colab": {
     "base_uri": "https://localhost:8080/"
    },
    "id": "6Gv9vJnbjbya",
    "outputId": "72c29542-b1e8-4df0-ff73-fb42edb46275"
   },
   "outputs": [
    {
     "name": "stdout",
     "output_type": "stream",
     "text": [
      "[[45 1 3 'High School' 'Married' '$60K - $80K' 'Blue' 39 5 1 3 12691.0\n",
      "  777 11914.0 1.335 1144 42 1.625 0.061]\n",
      " [49 0 5 'Graduate' 'Single' 'Less than $40K' 'Blue' 44 6 1 2 8256.0 864\n",
      "  7392.0 1.541 1291 33 3.714 0.105]\n",
      " [51 1 3 'Graduate' 'Married' '$80K - $120K' 'Blue' 36 4 1 0 3418.0 0\n",
      "  3418.0 2.594 1887 20 2.333 0.0]\n",
      " [40 0 4 'High School' 'Unknown' 'Less than $40K' 'Blue' 34 3 4 1 3313.0\n",
      "  2517 796.0 1.405 1171 20 2.333 0.76]\n",
      " [40 1 3 'Uneducated' 'Married' '$60K - $80K' 'Blue' 21 5 1 0 4716.0 0\n",
      "  4716.0 2.175 816 28 2.5 0.0]]\n"
     ]
    }
   ],
   "source": [
    "print(X[:5,:])"
   ]
  },
  {
   "cell_type": "markdown",
   "metadata": {
    "id": "CUxGZezpbMcb"
   },
   "source": [
    "One Hot Encoding the \"Geography\" column"
   ]
  },
  {
   "cell_type": "code",
   "execution_count": 9,
   "metadata": {
    "id": "AMXC8-KMVirw"
   },
   "outputs": [],
   "source": [
    "from sklearn.compose import ColumnTransformer\n",
    "from sklearn.preprocessing import OneHotEncoder\n",
    "ct = ColumnTransformer(transformers=[('encoder', OneHotEncoder(), [3,4,5,6])], remainder='passthrough')\n",
    "X = np.array(ct.fit_transform(X))"
   ]
  },
  {
   "cell_type": "code",
   "execution_count": 10,
   "metadata": {
    "colab": {
     "base_uri": "https://localhost:8080/"
    },
    "id": "ZcxwEon-b8nV",
    "outputId": "230105bb-c3a3-49be-dfaf-6c3e4de5c52a"
   },
   "outputs": [
    {
     "name": "stdout",
     "output_type": "stream",
     "text": [
      "[[0.0 0.0 0.0 ... 42 1.625 0.061]\n",
      " [0.0 0.0 1.0 ... 33 3.714 0.105]\n",
      " [0.0 0.0 1.0 ... 20 2.333 0.0]\n",
      " ...\n",
      " [0.0 0.0 0.0 ... 60 0.818 0.0]\n",
      " [0.0 0.0 1.0 ... 62 0.722 0.0]\n",
      " [0.0 0.0 1.0 ... 61 0.649 0.18899999999999997]]\n"
     ]
    }
   ],
   "source": [
    "print(X)"
   ]
  },
  {
   "cell_type": "code",
   "execution_count": 11,
   "metadata": {
    "colab": {
     "base_uri": "https://localhost:8080/"
    },
    "id": "O1J19mwckKny",
    "outputId": "308f756a-36ea-4276-bc38-8c4606410902"
   },
   "outputs": [
    {
     "name": "stdout",
     "output_type": "stream",
     "text": [
      "[[0.0 0.0 0.0 1.0 0.0 0.0 0.0 0.0 1.0 0.0 0.0 0.0 0.0 1.0 0.0 0.0 0.0 1.0\n",
      "  0.0 0.0 0.0 45 1 3 39 5 1 3 12691.0 777 11914.0 1.335 1144 42 1.625\n",
      "  0.061]\n",
      " [0.0 0.0 1.0 0.0 0.0 0.0 0.0 0.0 0.0 1.0 0.0 0.0 0.0 0.0 0.0 1.0 0.0 1.0\n",
      "  0.0 0.0 0.0 49 0 5 44 6 1 2 8256.0 864 7392.0 1.541 1291 33 3.714 0.105]\n",
      " [0.0 0.0 1.0 0.0 0.0 0.0 0.0 0.0 1.0 0.0 0.0 0.0 0.0 0.0 1.0 0.0 0.0 1.0\n",
      "  0.0 0.0 0.0 51 1 3 36 4 1 0 3418.0 0 3418.0 2.594 1887 20 2.333 0.0]\n",
      " [0.0 0.0 0.0 1.0 0.0 0.0 0.0 0.0 0.0 0.0 1.0 0.0 0.0 0.0 0.0 1.0 0.0 1.0\n",
      "  0.0 0.0 0.0 40 0 4 34 3 4 1 3313.0 2517 796.0 1.405 1171 20 2.333 0.76]\n",
      " [0.0 0.0 0.0 0.0 0.0 1.0 0.0 0.0 1.0 0.0 0.0 0.0 0.0 1.0 0.0 0.0 0.0 1.0\n",
      "  0.0 0.0 0.0 40 1 3 21 5 1 0 4716.0 0 4716.0 2.175 816 28 2.5 0.0]]\n"
     ]
    }
   ],
   "source": [
    "print(X[:5,:])"
   ]
  },
  {
   "cell_type": "markdown",
   "metadata": {
    "id": "vHol938cW8zd"
   },
   "source": [
    "### Splitting the dataset into the Training set and Test set"
   ]
  },
  {
   "cell_type": "code",
   "execution_count": 12,
   "metadata": {
    "id": "Z-TDt0Y_XEfc"
   },
   "outputs": [],
   "source": [
    "from sklearn.model_selection import train_test_split\n",
    "X_train, X_test, y_train, y_test = train_test_split(X, y, test_size = 0.25, random_state = 0)"
   ]
  },
  {
   "cell_type": "markdown",
   "metadata": {
    "id": "RE_FcHyfV3TQ"
   },
   "source": [
    "### Feature Scaling"
   ]
  },
  {
   "cell_type": "code",
   "execution_count": 13,
   "metadata": {
    "id": "ViCrE00rV8Sk"
   },
   "outputs": [],
   "source": [
    "from sklearn.preprocessing import StandardScaler\n",
    "sc = StandardScaler()\n",
    "X_train = sc.fit_transform(X_train)\n",
    "X_test = sc.transform(X_test)"
   ]
  },
  {
   "cell_type": "markdown",
   "metadata": {
    "id": "-zfEzkRVXIwF"
   },
   "source": [
    "## Part 2 - Building the ANN"
   ]
  },
  {
   "cell_type": "markdown",
   "metadata": {
    "id": "KvdeScabXtlB"
   },
   "source": [
    "### Initializing the ANN"
   ]
  },
  {
   "cell_type": "code",
   "execution_count": 15,
   "metadata": {
    "id": "3dtrScHxXQox"
   },
   "outputs": [],
   "source": [
    "ann = tf.keras.models.Sequential()"
   ]
  },
  {
   "cell_type": "markdown",
   "metadata": {
    "id": "rP6urV6SX7kS"
   },
   "source": [
    "### Adding the input layer and the first hidden layer"
   ]
  },
  {
   "cell_type": "code",
   "execution_count": 26,
   "metadata": {
    "id": "bppGycBXYCQr"
   },
   "outputs": [],
   "source": [
    "ann.add(tf.keras.layers.Dense(units=7, activation='relu'))"
   ]
  },
  {
   "cell_type": "markdown",
   "metadata": {
    "id": "BELWAc_8YJze"
   },
   "source": [
    "### Adding the second hidden layer"
   ]
  },
  {
   "cell_type": "code",
   "execution_count": 27,
   "metadata": {
    "id": "JneR0u0sYRTd"
   },
   "outputs": [],
   "source": [
    "ann.add(tf.keras.layers.Dense(units=7, activation='relu'))"
   ]
  },
  {
   "cell_type": "markdown",
   "metadata": {
    "id": "OyNEe6RXYcU4"
   },
   "source": [
    "### Adding the output layer"
   ]
  },
  {
   "cell_type": "code",
   "execution_count": 28,
   "metadata": {
    "id": "Cn3x41RBYfvY"
   },
   "outputs": [],
   "source": [
    "ann.add(tf.keras.layers.Dense(units=1, activation='sigmoid'))"
   ]
  },
  {
   "cell_type": "markdown",
   "metadata": {
    "id": "JT4u2S1_Y4WG"
   },
   "source": [
    "## Part 3 - Training the ANN"
   ]
  },
  {
   "cell_type": "markdown",
   "metadata": {
    "id": "8GWlJChhY_ZI"
   },
   "source": [
    "### Compiling the ANN"
   ]
  },
  {
   "cell_type": "code",
   "execution_count": 29,
   "metadata": {
    "id": "fG3RrwDXZEaS"
   },
   "outputs": [],
   "source": [
    "ann.compile(optimizer = 'adam', loss = 'binary_crossentropy', metrics = ['accuracy'])"
   ]
  },
  {
   "cell_type": "markdown",
   "metadata": {
    "id": "0QR_G5u7ZLSM"
   },
   "source": [
    "### Training the ANN on the Training set"
   ]
  },
  {
   "cell_type": "code",
   "execution_count": 30,
   "metadata": {
    "colab": {
     "base_uri": "https://localhost:8080/"
    },
    "id": "nHZ-LKv_ZRb3",
    "outputId": "12e92d4a-7837-4690-fd9a-7ca021013a12"
   },
   "outputs": [
    {
     "name": "stdout",
     "output_type": "stream",
     "text": [
      "Epoch 1/150\n",
      "152/152 [==============================] - 1s 1ms/step - loss: 0.5460 - accuracy: 0.8374\n",
      "Epoch 2/150\n",
      "152/152 [==============================] - 0s 1ms/step - loss: 0.3809 - accuracy: 0.8315\n",
      "Epoch 3/150\n",
      "152/152 [==============================] - 0s 1ms/step - loss: 0.3048 - accuracy: 0.8461\n",
      "Epoch 4/150\n",
      "152/152 [==============================] - 0s 1ms/step - loss: 0.2838 - accuracy: 0.8334\n",
      "Epoch 5/150\n",
      "152/152 [==============================] - 0s 1ms/step - loss: 0.2412 - accuracy: 0.8422\n",
      "Epoch 6/150\n",
      "152/152 [==============================] - 0s 1ms/step - loss: 0.2035 - accuracy: 0.9074\n",
      "Epoch 7/150\n",
      "152/152 [==============================] - 0s 1ms/step - loss: 0.1694 - accuracy: 0.9470\n",
      "Epoch 8/150\n",
      "152/152 [==============================] - 0s 1ms/step - loss: 0.1491 - accuracy: 0.9536\n",
      "Epoch 9/150\n",
      "152/152 [==============================] - 0s 1ms/step - loss: 0.1424 - accuracy: 0.9515\n",
      "Epoch 10/150\n",
      "152/152 [==============================] - 0s 1ms/step - loss: 0.1381 - accuracy: 0.9531\n",
      "Epoch 11/150\n",
      "152/152 [==============================] - 0s 1ms/step - loss: 0.1270 - accuracy: 0.9543\n",
      "Epoch 12/150\n",
      "152/152 [==============================] - 0s 1ms/step - loss: 0.1313 - accuracy: 0.9570\n",
      "Epoch 13/150\n",
      "152/152 [==============================] - 0s 1ms/step - loss: 0.1340 - accuracy: 0.9557\n",
      "Epoch 14/150\n",
      "152/152 [==============================] - 0s 1ms/step - loss: 0.1274 - accuracy: 0.9571\n",
      "Epoch 15/150\n",
      "152/152 [==============================] - 0s 1ms/step - loss: 0.1256 - accuracy: 0.9558\n",
      "Epoch 16/150\n",
      "152/152 [==============================] - 0s 1ms/step - loss: 0.1250 - accuracy: 0.9584\n",
      "Epoch 17/150\n",
      "152/152 [==============================] - 0s 1ms/step - loss: 0.1203 - accuracy: 0.9595\n",
      "Epoch 18/150\n",
      "152/152 [==============================] - 0s 1ms/step - loss: 0.1259 - accuracy: 0.9580\n",
      "Epoch 19/150\n",
      "152/152 [==============================] - 0s 1ms/step - loss: 0.1261 - accuracy: 0.9553\n",
      "Epoch 20/150\n",
      "152/152 [==============================] - 0s 1ms/step - loss: 0.1184 - accuracy: 0.9605\n",
      "Epoch 21/150\n",
      "152/152 [==============================] - 0s 1ms/step - loss: 0.1163 - accuracy: 0.9624\n",
      "Epoch 22/150\n",
      "152/152 [==============================] - 0s 1ms/step - loss: 0.1324 - accuracy: 0.9570\n",
      "Epoch 23/150\n",
      "152/152 [==============================] - 0s 1ms/step - loss: 0.1212 - accuracy: 0.9602\n",
      "Epoch 24/150\n",
      "152/152 [==============================] - 0s 1ms/step - loss: 0.1293 - accuracy: 0.9584\n",
      "Epoch 25/150\n",
      "152/152 [==============================] - 0s 1ms/step - loss: 0.1154 - accuracy: 0.9636\n",
      "Epoch 26/150\n",
      "152/152 [==============================] - 0s 1ms/step - loss: 0.1309 - accuracy: 0.9584\n",
      "Epoch 27/150\n",
      "152/152 [==============================] - 0s 1ms/step - loss: 0.1222 - accuracy: 0.9588\n",
      "Epoch 28/150\n",
      "152/152 [==============================] - 0s 1ms/step - loss: 0.1110 - accuracy: 0.9651\n",
      "Epoch 29/150\n",
      "152/152 [==============================] - 0s 1ms/step - loss: 0.1284 - accuracy: 0.9588\n",
      "Epoch 30/150\n",
      "152/152 [==============================] - 0s 1ms/step - loss: 0.1166 - accuracy: 0.9614\n",
      "Epoch 31/150\n",
      "152/152 [==============================] - 0s 1ms/step - loss: 0.1101 - accuracy: 0.9641\n",
      "Epoch 32/150\n",
      "152/152 [==============================] - 0s 1ms/step - loss: 0.1194 - accuracy: 0.9602\n",
      "Epoch 33/150\n",
      "152/152 [==============================] - 0s 1ms/step - loss: 0.1199 - accuracy: 0.9619\n",
      "Epoch 34/150\n",
      "152/152 [==============================] - 0s 1ms/step - loss: 0.1270 - accuracy: 0.9569\n",
      "Epoch 35/150\n",
      "152/152 [==============================] - 0s 1ms/step - loss: 0.1127 - accuracy: 0.9619\n",
      "Epoch 36/150\n",
      "152/152 [==============================] - 0s 1ms/step - loss: 0.1216 - accuracy: 0.9611\n",
      "Epoch 37/150\n",
      "152/152 [==============================] - 0s 1ms/step - loss: 0.1282 - accuracy: 0.9575\n",
      "Epoch 38/150\n",
      "152/152 [==============================] - 0s 1ms/step - loss: 0.1147 - accuracy: 0.9577\n",
      "Epoch 39/150\n",
      "152/152 [==============================] - 0s 1ms/step - loss: 0.1169 - accuracy: 0.9623\n",
      "Epoch 40/150\n",
      "152/152 [==============================] - 0s 1ms/step - loss: 0.1160 - accuracy: 0.9621\n",
      "Epoch 41/150\n",
      "152/152 [==============================] - 0s 1ms/step - loss: 0.1268 - accuracy: 0.9552\n",
      "Epoch 42/150\n",
      "152/152 [==============================] - 0s 1ms/step - loss: 0.1136 - accuracy: 0.9598\n",
      "Epoch 43/150\n",
      "152/152 [==============================] - 0s 2ms/step - loss: 0.1190 - accuracy: 0.9586\n",
      "Epoch 44/150\n",
      "152/152 [==============================] - 0s 1ms/step - loss: 0.1163 - accuracy: 0.9604\n",
      "Epoch 45/150\n",
      "152/152 [==============================] - 0s 1ms/step - loss: 0.1181 - accuracy: 0.9601\n",
      "Epoch 46/150\n",
      "152/152 [==============================] - 0s 1ms/step - loss: 0.1141 - accuracy: 0.9622\n",
      "Epoch 47/150\n",
      "152/152 [==============================] - 0s 1ms/step - loss: 0.1177 - accuracy: 0.9622\n",
      "Epoch 48/150\n",
      "152/152 [==============================] - 0s 1ms/step - loss: 0.1300 - accuracy: 0.9563\n",
      "Epoch 49/150\n",
      "152/152 [==============================] - 0s 2ms/step - loss: 0.1184 - accuracy: 0.9614\n",
      "Epoch 50/150\n",
      "152/152 [==============================] - 0s 2ms/step - loss: 0.1224 - accuracy: 0.9589\n",
      "Epoch 51/150\n",
      "152/152 [==============================] - 0s 1ms/step - loss: 0.1116 - accuracy: 0.9637\n",
      "Epoch 52/150\n",
      "152/152 [==============================] - 0s 1ms/step - loss: 0.1138 - accuracy: 0.9648\n",
      "Epoch 53/150\n",
      "152/152 [==============================] - 0s 1ms/step - loss: 0.1273 - accuracy: 0.9550\n",
      "Epoch 54/150\n",
      "152/152 [==============================] - 0s 1ms/step - loss: 0.1252 - accuracy: 0.9569\n",
      "Epoch 55/150\n",
      "152/152 [==============================] - 0s 1ms/step - loss: 0.1328 - accuracy: 0.9564\n",
      "Epoch 56/150\n",
      "152/152 [==============================] - 0s 1ms/step - loss: 0.1102 - accuracy: 0.9635\n",
      "Epoch 57/150\n",
      "152/152 [==============================] - 0s 1ms/step - loss: 0.1143 - accuracy: 0.9618\n",
      "Epoch 58/150\n",
      "152/152 [==============================] - 0s 1ms/step - loss: 0.1281 - accuracy: 0.9524\n",
      "Epoch 59/150\n",
      "152/152 [==============================] - 0s 2ms/step - loss: 0.1192 - accuracy: 0.9597\n",
      "Epoch 60/150\n",
      "152/152 [==============================] - 0s 1ms/step - loss: 0.1160 - accuracy: 0.9617\n",
      "Epoch 61/150\n",
      "152/152 [==============================] - 0s 1ms/step - loss: 0.1147 - accuracy: 0.9611\n",
      "Epoch 62/150\n",
      "152/152 [==============================] - 0s 1ms/step - loss: 0.1191 - accuracy: 0.9616\n",
      "Epoch 63/150\n",
      "152/152 [==============================] - 0s 1ms/step - loss: 0.1123 - accuracy: 0.9621\n",
      "Epoch 64/150\n",
      "152/152 [==============================] - 0s 1ms/step - loss: 0.1157 - accuracy: 0.9596\n",
      "Epoch 65/150\n",
      "152/152 [==============================] - 0s 1ms/step - loss: 0.1228 - accuracy: 0.9619\n",
      "Epoch 66/150\n",
      "152/152 [==============================] - 0s 1ms/step - loss: 0.1134 - accuracy: 0.9610\n",
      "Epoch 67/150\n",
      "152/152 [==============================] - 0s 1ms/step - loss: 0.1176 - accuracy: 0.9596\n",
      "Epoch 68/150\n",
      "152/152 [==============================] - 0s 1ms/step - loss: 0.1161 - accuracy: 0.9618\n",
      "Epoch 69/150\n",
      "152/152 [==============================] - 0s 1ms/step - loss: 0.1190 - accuracy: 0.9593\n",
      "Epoch 70/150\n",
      "152/152 [==============================] - 1s 4ms/step - loss: 0.1185 - accuracy: 0.9609\n",
      "Epoch 71/150\n",
      "152/152 [==============================] - 0s 1ms/step - loss: 0.1120 - accuracy: 0.9640\n",
      "Epoch 72/150\n",
      "152/152 [==============================] - 0s 1ms/step - loss: 0.1257 - accuracy: 0.9584\n",
      "Epoch 73/150\n",
      "152/152 [==============================] - 0s 1ms/step - loss: 0.1206 - accuracy: 0.9596\n",
      "Epoch 74/150\n",
      "152/152 [==============================] - 0s 1ms/step - loss: 0.1116 - accuracy: 0.9622\n",
      "Epoch 75/150\n",
      "152/152 [==============================] - 0s 1ms/step - loss: 0.1082 - accuracy: 0.9648\n",
      "Epoch 76/150\n",
      "152/152 [==============================] - 0s 1ms/step - loss: 0.1078 - accuracy: 0.9651\n",
      "Epoch 77/150\n",
      "152/152 [==============================] - 0s 1ms/step - loss: 0.1171 - accuracy: 0.9609\n",
      "Epoch 78/150\n",
      "152/152 [==============================] - 0s 1ms/step - loss: 0.1124 - accuracy: 0.9636\n",
      "Epoch 79/150\n",
      "152/152 [==============================] - 0s 1ms/step - loss: 0.1131 - accuracy: 0.9622\n",
      "Epoch 80/150\n",
      "152/152 [==============================] - 0s 1ms/step - loss: 0.1094 - accuracy: 0.9639\n",
      "Epoch 81/150\n",
      "152/152 [==============================] - 0s 1ms/step - loss: 0.1193 - accuracy: 0.9595\n",
      "Epoch 82/150\n",
      "152/152 [==============================] - 0s 1ms/step - loss: 0.1213 - accuracy: 0.9588\n",
      "Epoch 83/150\n",
      "152/152 [==============================] - 0s 1ms/step - loss: 0.1164 - accuracy: 0.9609\n",
      "Epoch 84/150\n",
      "152/152 [==============================] - 0s 1ms/step - loss: 0.1069 - accuracy: 0.9651\n",
      "Epoch 85/150\n",
      "152/152 [==============================] - 0s 1ms/step - loss: 0.1155 - accuracy: 0.9609\n",
      "Epoch 86/150\n",
      "152/152 [==============================] - 0s 1ms/step - loss: 0.1124 - accuracy: 0.9618\n",
      "Epoch 87/150\n",
      "152/152 [==============================] - 0s 1ms/step - loss: 0.1163 - accuracy: 0.9616\n",
      "Epoch 88/150\n",
      "152/152 [==============================] - 0s 1ms/step - loss: 0.1135 - accuracy: 0.9603\n",
      "Epoch 89/150\n",
      "152/152 [==============================] - 0s 1ms/step - loss: 0.1165 - accuracy: 0.9581\n",
      "Epoch 90/150\n",
      "152/152 [==============================] - 0s 1ms/step - loss: 0.1175 - accuracy: 0.9584\n",
      "Epoch 91/150\n",
      "152/152 [==============================] - 0s 1ms/step - loss: 0.1060 - accuracy: 0.9635\n",
      "Epoch 92/150\n",
      "152/152 [==============================] - 0s 1ms/step - loss: 0.1103 - accuracy: 0.9635\n",
      "Epoch 93/150\n",
      "152/152 [==============================] - 0s 1ms/step - loss: 0.1152 - accuracy: 0.9618\n",
      "Epoch 94/150\n",
      "152/152 [==============================] - 0s 1ms/step - loss: 0.1097 - accuracy: 0.9613\n",
      "Epoch 95/150\n",
      "152/152 [==============================] - 0s 1ms/step - loss: 0.1034 - accuracy: 0.9647\n",
      "Epoch 96/150\n",
      "152/152 [==============================] - 0s 1ms/step - loss: 0.1108 - accuracy: 0.9645\n",
      "Epoch 97/150\n",
      "152/152 [==============================] - 0s 1ms/step - loss: 0.1079 - accuracy: 0.9644\n",
      "Epoch 98/150\n",
      "152/152 [==============================] - 0s 1ms/step - loss: 0.1165 - accuracy: 0.9608\n",
      "Epoch 99/150\n",
      "152/152 [==============================] - 0s 1ms/step - loss: 0.1195 - accuracy: 0.9592\n",
      "Epoch 100/150\n",
      "152/152 [==============================] - 0s 1ms/step - loss: 0.1023 - accuracy: 0.9643\n",
      "Epoch 101/150\n",
      "152/152 [==============================] - 0s 1ms/step - loss: 0.1154 - accuracy: 0.9614\n",
      "Epoch 102/150\n",
      "152/152 [==============================] - 0s 1ms/step - loss: 0.1151 - accuracy: 0.9590\n",
      "Epoch 103/150\n",
      "152/152 [==============================] - 0s 1ms/step - loss: 0.1220 - accuracy: 0.9575\n",
      "Epoch 104/150\n",
      "152/152 [==============================] - 0s 1ms/step - loss: 0.1155 - accuracy: 0.9618\n",
      "Epoch 105/150\n",
      "152/152 [==============================] - 0s 1ms/step - loss: 0.1078 - accuracy: 0.9640\n",
      "Epoch 106/150\n",
      "152/152 [==============================] - 0s 1ms/step - loss: 0.1117 - accuracy: 0.9608\n",
      "Epoch 107/150\n",
      "152/152 [==============================] - 0s 1ms/step - loss: 0.1105 - accuracy: 0.9604\n",
      "Epoch 108/150\n",
      "152/152 [==============================] - 0s 1ms/step - loss: 0.1114 - accuracy: 0.9612\n",
      "Epoch 109/150\n",
      "152/152 [==============================] - 0s 1ms/step - loss: 0.1100 - accuracy: 0.9629\n",
      "Epoch 110/150\n",
      "152/152 [==============================] - 0s 1ms/step - loss: 0.1053 - accuracy: 0.9643\n",
      "Epoch 111/150\n",
      "152/152 [==============================] - 0s 1ms/step - loss: 0.1067 - accuracy: 0.9661\n",
      "Epoch 112/150\n",
      "152/152 [==============================] - 0s 1ms/step - loss: 0.1117 - accuracy: 0.9609\n",
      "Epoch 113/150\n",
      "152/152 [==============================] - 0s 1ms/step - loss: 0.1094 - accuracy: 0.9637\n",
      "Epoch 114/150\n",
      "152/152 [==============================] - 0s 1ms/step - loss: 0.1135 - accuracy: 0.9620\n",
      "Epoch 115/150\n",
      "152/152 [==============================] - 0s 1ms/step - loss: 0.1094 - accuracy: 0.9647\n",
      "Epoch 116/150\n",
      "152/152 [==============================] - 0s 1ms/step - loss: 0.1070 - accuracy: 0.9651\n",
      "Epoch 117/150\n",
      "152/152 [==============================] - 0s 1ms/step - loss: 0.1221 - accuracy: 0.9557\n",
      "Epoch 118/150\n",
      "152/152 [==============================] - 0s 1ms/step - loss: 0.1106 - accuracy: 0.9644\n",
      "Epoch 119/150\n",
      "152/152 [==============================] - 0s 1ms/step - loss: 0.1070 - accuracy: 0.9638\n",
      "Epoch 120/150\n",
      "152/152 [==============================] - 0s 1ms/step - loss: 0.1122 - accuracy: 0.9635\n",
      "Epoch 121/150\n",
      "152/152 [==============================] - 0s 2ms/step - loss: 0.1061 - accuracy: 0.9630\n",
      "Epoch 122/150\n",
      "152/152 [==============================] - 0s 2ms/step - loss: 0.1184 - accuracy: 0.9610\n",
      "Epoch 123/150\n",
      "152/152 [==============================] - 0s 2ms/step - loss: 0.0989 - accuracy: 0.9666\n",
      "Epoch 124/150\n",
      "152/152 [==============================] - 0s 2ms/step - loss: 0.1067 - accuracy: 0.9639\n",
      "Epoch 125/150\n",
      "152/152 [==============================] - 0s 1ms/step - loss: 0.1181 - accuracy: 0.9573\n",
      "Epoch 126/150\n",
      "152/152 [==============================] - 0s 2ms/step - loss: 0.1078 - accuracy: 0.9652\n",
      "Epoch 127/150\n",
      "152/152 [==============================] - 0s 2ms/step - loss: 0.1109 - accuracy: 0.9610\n",
      "Epoch 128/150\n",
      "152/152 [==============================] - 0s 2ms/step - loss: 0.1158 - accuracy: 0.9587\n",
      "Epoch 129/150\n",
      "152/152 [==============================] - 0s 1ms/step - loss: 0.1084 - accuracy: 0.9638\n",
      "Epoch 130/150\n",
      "152/152 [==============================] - 0s 2ms/step - loss: 0.1132 - accuracy: 0.9632\n",
      "Epoch 131/150\n",
      "152/152 [==============================] - 0s 2ms/step - loss: 0.1036 - accuracy: 0.9634\n",
      "Epoch 132/150\n",
      "152/152 [==============================] - 0s 1ms/step - loss: 0.1078 - accuracy: 0.9649\n",
      "Epoch 133/150\n",
      "152/152 [==============================] - 0s 2ms/step - loss: 0.1076 - accuracy: 0.9625\n",
      "Epoch 134/150\n",
      "152/152 [==============================] - 0s 2ms/step - loss: 0.1107 - accuracy: 0.9633\n",
      "Epoch 135/150\n",
      "152/152 [==============================] - 0s 2ms/step - loss: 0.1134 - accuracy: 0.9636\n",
      "Epoch 136/150\n",
      "152/152 [==============================] - 0s 2ms/step - loss: 0.1073 - accuracy: 0.9640\n",
      "Epoch 137/150\n",
      "152/152 [==============================] - 0s 2ms/step - loss: 0.1112 - accuracy: 0.9630\n",
      "Epoch 138/150\n",
      "152/152 [==============================] - 0s 2ms/step - loss: 0.1241 - accuracy: 0.9593\n",
      "Epoch 139/150\n",
      "152/152 [==============================] - 0s 1ms/step - loss: 0.1084 - accuracy: 0.9625\n",
      "Epoch 140/150\n",
      "152/152 [==============================] - 0s 1ms/step - loss: 0.1147 - accuracy: 0.9590\n",
      "Epoch 141/150\n",
      "152/152 [==============================] - 0s 1ms/step - loss: 0.1048 - accuracy: 0.9653\n",
      "Epoch 142/150\n",
      "152/152 [==============================] - 0s 2ms/step - loss: 0.1116 - accuracy: 0.9627\n",
      "Epoch 143/150\n",
      "152/152 [==============================] - 0s 2ms/step - loss: 0.1016 - accuracy: 0.9618\n",
      "Epoch 144/150\n",
      "152/152 [==============================] - 0s 1ms/step - loss: 0.1091 - accuracy: 0.9639\n",
      "Epoch 145/150\n",
      "152/152 [==============================] - 0s 1ms/step - loss: 0.1182 - accuracy: 0.9593\n",
      "Epoch 146/150\n",
      "152/152 [==============================] - 0s 1ms/step - loss: 0.1038 - accuracy: 0.9671\n",
      "Epoch 147/150\n",
      "152/152 [==============================] - 0s 1ms/step - loss: 0.1147 - accuracy: 0.9620\n",
      "Epoch 148/150\n",
      "152/152 [==============================] - 1s 6ms/step - loss: 0.1051 - accuracy: 0.9640\n",
      "Epoch 149/150\n",
      "152/152 [==============================] - 0s 1ms/step - loss: 0.1148 - accuracy: 0.9621\n",
      "Epoch 150/150\n",
      "152/152 [==============================] - 0s 1ms/step - loss: 0.1135 - accuracy: 0.9616\n"
     ]
    },
    {
     "data": {
      "text/plain": [
       "<tensorflow.python.keras.callbacks.History at 0x7f720fc141d0>"
      ]
     },
     "execution_count": 30,
     "metadata": {
      "tags": []
     },
     "output_type": "execute_result"
    }
   ],
   "source": [
    "ann.fit(X_train, y_train, batch_size = 50, epochs = 150)"
   ]
  },
  {
   "cell_type": "markdown",
   "metadata": {
    "id": "tJj5k2MxZga3"
   },
   "source": [
    "## Part 4 - Making the predictions and evaluating the model"
   ]
  },
  {
   "cell_type": "markdown",
   "metadata": {
    "id": "84QFoqGYeXHL"
   },
   "source": [
    "### Predicting the result of a single observation"
   ]
  },
  {
   "cell_type": "markdown",
   "metadata": {
    "id": "CGRo3eacgDdC"
   },
   "source": [
    "**Homework**\n",
    "\n",
    "Use our ANN model to predict if the customer with the following informations will leave the bank: \n",
    "\n",
    "Geography: France\n",
    "\n",
    "Credit Score: 600\n",
    "\n",
    "Gender: Male\n",
    "\n",
    "Age: 40 years old\n",
    "\n",
    "Tenure: 3 years\n",
    "\n",
    "Balance: \\$ 60000\n",
    "\n",
    "Number of Products: 2\n",
    "\n",
    "Does this customer have a credit card? Yes\n",
    "\n",
    "Is this customer an Active Member: Yes\n",
    "\n",
    "Estimated Salary: \\$ 50000\n",
    "\n",
    "So, should we say goodbye to that customer?"
   ]
  },
  {
   "cell_type": "markdown",
   "metadata": {
    "id": "ZhU1LTgPg-kH"
   },
   "source": [
    "**Solution**"
   ]
  },
  {
   "cell_type": "code",
   "execution_count": null,
   "metadata": {
    "colab": {
     "base_uri": "https://localhost:8080/",
     "height": 34
    },
    "id": "2d8IoCCkeWGL",
    "outputId": "957f3970-e197-4c3b-a150-7f69dc567f5d"
   },
   "outputs": [
    {
     "name": "stdout",
     "output_type": "stream",
     "text": [
      "[[False]]\n"
     ]
    }
   ],
   "source": [
    "print(ann.predict(sc.transform([[1, 0, 0, 600, 1, 40, 3, 60000, 2, 1, 1, 50000]])) > 0.5)"
   ]
  },
  {
   "cell_type": "markdown",
   "metadata": {
    "id": "wGjx94g2n7OV"
   },
   "source": [
    "Therefore, our ANN model predicts that this customer stays in the bank!\n",
    "\n",
    "**Important note 1:** Notice that the values of the features were all input in a double pair of square brackets. That's because the \"predict\" method always expects a 2D array as the format of its inputs. And putting our values into a double pair of square brackets makes the input exactly a 2D array.\n",
    "\n",
    "**Important note 2:** Notice also that the \"France\" country was not input as a string in the last column but as \"1, 0, 0\" in the first three columns. That's because of course the predict method expects the one-hot-encoded values of the state, and as we see in the first row of the matrix of features X, \"France\" was encoded as \"1, 0, 0\". And be careful to include these values in the first three columns, because the dummy variables are always created in the first columns."
   ]
  },
  {
   "cell_type": "markdown",
   "metadata": {
    "id": "u7yx47jPZt11"
   },
   "source": [
    "### Predicting the Test set results"
   ]
  },
  {
   "cell_type": "code",
   "execution_count": 31,
   "metadata": {
    "colab": {
     "base_uri": "https://localhost:8080/"
    },
    "id": "nIyEeQdRZwgs",
    "outputId": "4e7bef5c-5e4e-45aa-d930-668b2775c554"
   },
   "outputs": [
    {
     "name": "stdout",
     "output_type": "stream",
     "text": [
      "[[1 1]\n",
      " [0 0]\n",
      " [1 1]\n",
      " ...\n",
      " [1 1]\n",
      " [1 1]\n",
      " [1 1]]\n"
     ]
    }
   ],
   "source": [
    "y_pred = ann.predict(X_test)\n",
    "y_pred = (y_pred > 0.5)\n",
    "print(np.concatenate((y_pred.reshape(len(y_pred),1), y_test.reshape(len(y_test),1)),1))"
   ]
  },
  {
   "cell_type": "markdown",
   "metadata": {
    "id": "o0oyfLWoaEGw"
   },
   "source": [
    "### Making the Confusion Matrix"
   ]
  },
  {
   "cell_type": "code",
   "execution_count": 32,
   "metadata": {
    "colab": {
     "base_uri": "https://localhost:8080/"
    },
    "id": "ci6K_r6LaF6P",
    "outputId": "31bcf0d9-4588-48b9-d4f8-c16580177292"
   },
   "outputs": [
    {
     "name": "stdout",
     "output_type": "stream",
     "text": [
      "[[ 264  120]\n",
      " [  91 2057]]\n"
     ]
    },
    {
     "data": {
      "text/plain": [
       "0.9166666666666666"
      ]
     },
     "execution_count": 32,
     "metadata": {
      "tags": []
     },
     "output_type": "execute_result"
    }
   ],
   "source": [
    "from sklearn.metrics import confusion_matrix, accuracy_score\n",
    "cm = confusion_matrix(y_test, y_pred)\n",
    "print(cm)\n",
    "accuracy_score(y_test, y_pred)"
   ]
  }
 ],
 "metadata": {
  "colab": {
   "collapsed_sections": [],
   "name": "Copy of artificial_neural_network.ipynb",
   "provenance": [],
   "toc_visible": true
  },
  "kernelspec": {
   "display_name": "Python 3",
   "language": "python",
   "name": "python3"
  },
  "language_info": {
   "codemirror_mode": {
    "name": "ipython",
    "version": 3
   },
   "file_extension": ".py",
   "mimetype": "text/x-python",
   "name": "python",
   "nbconvert_exporter": "python",
   "pygments_lexer": "ipython3",
   "version": "3.8.3"
  }
 },
 "nbformat": 4,
 "nbformat_minor": 1
}
