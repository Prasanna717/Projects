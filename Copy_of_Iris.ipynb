{
  "nbformat": 4,
  "nbformat_minor": 0,
  "metadata": {
    "colab": {
      "name": "Copy of Iris",
      "provenance": [],
      "collapsed_sections": [],
      "authorship_tag": "ABX9TyPy+00lGWr59ODxCmdjiudh",
      "include_colab_link": true
    },
    "kernelspec": {
      "name": "python3",
      "display_name": "Python 3"
    }
  },
  "cells": [
    {
      "cell_type": "markdown",
      "metadata": {
        "id": "view-in-github",
        "colab_type": "text"
      },
      "source": [
        "<a href=\"https://colab.research.google.com/github/Prasanna717/Projects/blob/main/Copy_of_Iris.ipynb\" target=\"_parent\"><img src=\"https://colab.research.google.com/assets/colab-badge.svg\" alt=\"Open In Colab\"/></a>"
      ]
    },
    {
      "cell_type": "markdown",
      "metadata": {
        "id": "oTzYokPTkGP8"
      },
      "source": [
        "Data preprocessing steps"
      ]
    },
    {
      "cell_type": "code",
      "metadata": {
        "id": "Efj9YS9AkE8g"
      },
      "source": [
        "import numpy as np\n",
        "import matplotlib.pyplot as plt\n",
        "import pandas as pd\n",
        "import seaborn as sns"
      ],
      "execution_count": 10,
      "outputs": []
    },
    {
      "cell_type": "code",
      "metadata": {
        "id": "O3eHtjK7g2hW"
      },
      "source": [
        "data = pd.read_csv('Iris.csv')"
      ],
      "execution_count": 3,
      "outputs": []
    },
    {
      "cell_type": "code",
      "metadata": {
        "colab": {
          "base_uri": "https://localhost:8080/",
          "height": 343
        },
        "id": "w_ytj_7Pr2y5",
        "outputId": "bc7ccaa5-91f5-47e6-b019-f3588c13eac2"
      },
      "source": [
        "data.head(10)"
      ],
      "execution_count": 4,
      "outputs": [
        {
          "output_type": "execute_result",
          "data": {
            "text/html": [
              "<div>\n",
              "<style scoped>\n",
              "    .dataframe tbody tr th:only-of-type {\n",
              "        vertical-align: middle;\n",
              "    }\n",
              "\n",
              "    .dataframe tbody tr th {\n",
              "        vertical-align: top;\n",
              "    }\n",
              "\n",
              "    .dataframe thead th {\n",
              "        text-align: right;\n",
              "    }\n",
              "</style>\n",
              "<table border=\"1\" class=\"dataframe\">\n",
              "  <thead>\n",
              "    <tr style=\"text-align: right;\">\n",
              "      <th></th>\n",
              "      <th>Id</th>\n",
              "      <th>SepalLengthCm</th>\n",
              "      <th>SepalWidthCm</th>\n",
              "      <th>PetalLengthCm</th>\n",
              "      <th>PetalWidthCm</th>\n",
              "      <th>Species</th>\n",
              "      <th>Unnamed: 6</th>\n",
              "      <th>Unnamed: 7</th>\n",
              "    </tr>\n",
              "  </thead>\n",
              "  <tbody>\n",
              "    <tr>\n",
              "      <th>0</th>\n",
              "      <td>1</td>\n",
              "      <td>5.1</td>\n",
              "      <td>3.5</td>\n",
              "      <td>1.4</td>\n",
              "      <td>0.2</td>\n",
              "      <td>Iris-setosa</td>\n",
              "      <td>NaN</td>\n",
              "      <td>NaN</td>\n",
              "    </tr>\n",
              "    <tr>\n",
              "      <th>1</th>\n",
              "      <td>2</td>\n",
              "      <td>4.9</td>\n",
              "      <td>3.0</td>\n",
              "      <td>1.4</td>\n",
              "      <td>0.2</td>\n",
              "      <td>Iris-setosa</td>\n",
              "      <td>NaN</td>\n",
              "      <td>NaN</td>\n",
              "    </tr>\n",
              "    <tr>\n",
              "      <th>2</th>\n",
              "      <td>3</td>\n",
              "      <td>4.7</td>\n",
              "      <td>3.2</td>\n",
              "      <td>1.3</td>\n",
              "      <td>0.2</td>\n",
              "      <td>Iris-setosa</td>\n",
              "      <td>NaN</td>\n",
              "      <td>NaN</td>\n",
              "    </tr>\n",
              "    <tr>\n",
              "      <th>3</th>\n",
              "      <td>4</td>\n",
              "      <td>4.6</td>\n",
              "      <td>3.1</td>\n",
              "      <td>1.5</td>\n",
              "      <td>0.2</td>\n",
              "      <td>Iris-setosa</td>\n",
              "      <td>NaN</td>\n",
              "      <td>NaN</td>\n",
              "    </tr>\n",
              "    <tr>\n",
              "      <th>4</th>\n",
              "      <td>5</td>\n",
              "      <td>5.0</td>\n",
              "      <td>3.6</td>\n",
              "      <td>1.4</td>\n",
              "      <td>0.2</td>\n",
              "      <td>Iris-setosa</td>\n",
              "      <td>NaN</td>\n",
              "      <td>NaN</td>\n",
              "    </tr>\n",
              "    <tr>\n",
              "      <th>5</th>\n",
              "      <td>6</td>\n",
              "      <td>5.4</td>\n",
              "      <td>3.9</td>\n",
              "      <td>1.7</td>\n",
              "      <td>0.4</td>\n",
              "      <td>Iris-setosa</td>\n",
              "      <td>NaN</td>\n",
              "      <td>NaN</td>\n",
              "    </tr>\n",
              "    <tr>\n",
              "      <th>6</th>\n",
              "      <td>7</td>\n",
              "      <td>4.6</td>\n",
              "      <td>3.4</td>\n",
              "      <td>1.4</td>\n",
              "      <td>0.3</td>\n",
              "      <td>Iris-setosa</td>\n",
              "      <td>NaN</td>\n",
              "      <td>NaN</td>\n",
              "    </tr>\n",
              "    <tr>\n",
              "      <th>7</th>\n",
              "      <td>8</td>\n",
              "      <td>5.0</td>\n",
              "      <td>3.4</td>\n",
              "      <td>1.5</td>\n",
              "      <td>0.2</td>\n",
              "      <td>Iris-setosa</td>\n",
              "      <td>NaN</td>\n",
              "      <td>NaN</td>\n",
              "    </tr>\n",
              "    <tr>\n",
              "      <th>8</th>\n",
              "      <td>9</td>\n",
              "      <td>4.4</td>\n",
              "      <td>2.9</td>\n",
              "      <td>1.4</td>\n",
              "      <td>0.2</td>\n",
              "      <td>Iris-setosa</td>\n",
              "      <td>NaN</td>\n",
              "      <td>NaN</td>\n",
              "    </tr>\n",
              "    <tr>\n",
              "      <th>9</th>\n",
              "      <td>10</td>\n",
              "      <td>4.9</td>\n",
              "      <td>3.1</td>\n",
              "      <td>1.5</td>\n",
              "      <td>0.1</td>\n",
              "      <td>Iris-setosa</td>\n",
              "      <td>NaN</td>\n",
              "      <td>NaN</td>\n",
              "    </tr>\n",
              "  </tbody>\n",
              "</table>\n",
              "</div>"
            ],
            "text/plain": [
              "   Id  SepalLengthCm  SepalWidthCm  ...      Species  Unnamed: 6 Unnamed: 7\n",
              "0   1            5.1           3.5  ...  Iris-setosa         NaN        NaN\n",
              "1   2            4.9           3.0  ...  Iris-setosa         NaN        NaN\n",
              "2   3            4.7           3.2  ...  Iris-setosa         NaN        NaN\n",
              "3   4            4.6           3.1  ...  Iris-setosa         NaN        NaN\n",
              "4   5            5.0           3.6  ...  Iris-setosa         NaN        NaN\n",
              "5   6            5.4           3.9  ...  Iris-setosa         NaN        NaN\n",
              "6   7            4.6           3.4  ...  Iris-setosa         NaN        NaN\n",
              "7   8            5.0           3.4  ...  Iris-setosa         NaN        NaN\n",
              "8   9            4.4           2.9  ...  Iris-setosa         NaN        NaN\n",
              "9  10            4.9           3.1  ...  Iris-setosa         NaN        NaN\n",
              "\n",
              "[10 rows x 8 columns]"
            ]
          },
          "metadata": {
            "tags": []
          },
          "execution_count": 4
        }
      ]
    },
    {
      "cell_type": "code",
      "metadata": {
        "colab": {
          "base_uri": "https://localhost:8080/",
          "height": 195
        },
        "id": "sm3VPzLJr89j",
        "outputId": "51962dcf-85c9-4bf7-c504-a50619a0311b"
      },
      "source": [
        "data.tail(5)"
      ],
      "execution_count": 5,
      "outputs": [
        {
          "output_type": "execute_result",
          "data": {
            "text/html": [
              "<div>\n",
              "<style scoped>\n",
              "    .dataframe tbody tr th:only-of-type {\n",
              "        vertical-align: middle;\n",
              "    }\n",
              "\n",
              "    .dataframe tbody tr th {\n",
              "        vertical-align: top;\n",
              "    }\n",
              "\n",
              "    .dataframe thead th {\n",
              "        text-align: right;\n",
              "    }\n",
              "</style>\n",
              "<table border=\"1\" class=\"dataframe\">\n",
              "  <thead>\n",
              "    <tr style=\"text-align: right;\">\n",
              "      <th></th>\n",
              "      <th>Id</th>\n",
              "      <th>SepalLengthCm</th>\n",
              "      <th>SepalWidthCm</th>\n",
              "      <th>PetalLengthCm</th>\n",
              "      <th>PetalWidthCm</th>\n",
              "      <th>Species</th>\n",
              "      <th>Unnamed: 6</th>\n",
              "      <th>Unnamed: 7</th>\n",
              "    </tr>\n",
              "  </thead>\n",
              "  <tbody>\n",
              "    <tr>\n",
              "      <th>145</th>\n",
              "      <td>146</td>\n",
              "      <td>6.7</td>\n",
              "      <td>3.0</td>\n",
              "      <td>5.2</td>\n",
              "      <td>2.3</td>\n",
              "      <td>Iris-virginica</td>\n",
              "      <td>NaN</td>\n",
              "      <td>NaN</td>\n",
              "    </tr>\n",
              "    <tr>\n",
              "      <th>146</th>\n",
              "      <td>147</td>\n",
              "      <td>6.3</td>\n",
              "      <td>2.5</td>\n",
              "      <td>5.0</td>\n",
              "      <td>1.9</td>\n",
              "      <td>Iris-virginica</td>\n",
              "      <td>NaN</td>\n",
              "      <td>NaN</td>\n",
              "    </tr>\n",
              "    <tr>\n",
              "      <th>147</th>\n",
              "      <td>148</td>\n",
              "      <td>6.5</td>\n",
              "      <td>3.0</td>\n",
              "      <td>5.2</td>\n",
              "      <td>2.0</td>\n",
              "      <td>Iris-virginica</td>\n",
              "      <td>NaN</td>\n",
              "      <td>NaN</td>\n",
              "    </tr>\n",
              "    <tr>\n",
              "      <th>148</th>\n",
              "      <td>149</td>\n",
              "      <td>6.2</td>\n",
              "      <td>3.4</td>\n",
              "      <td>5.4</td>\n",
              "      <td>2.3</td>\n",
              "      <td>Iris-virginica</td>\n",
              "      <td>NaN</td>\n",
              "      <td>NaN</td>\n",
              "    </tr>\n",
              "    <tr>\n",
              "      <th>149</th>\n",
              "      <td>150</td>\n",
              "      <td>5.9</td>\n",
              "      <td>3.0</td>\n",
              "      <td>5.1</td>\n",
              "      <td>1.8</td>\n",
              "      <td>Iris-virginica</td>\n",
              "      <td>NaN</td>\n",
              "      <td>NaN</td>\n",
              "    </tr>\n",
              "  </tbody>\n",
              "</table>\n",
              "</div>"
            ],
            "text/plain": [
              "      Id  SepalLengthCm  SepalWidthCm  ...         Species  Unnamed: 6 Unnamed: 7\n",
              "145  146            6.7           3.0  ...  Iris-virginica         NaN        NaN\n",
              "146  147            6.3           2.5  ...  Iris-virginica         NaN        NaN\n",
              "147  148            6.5           3.0  ...  Iris-virginica         NaN        NaN\n",
              "148  149            6.2           3.4  ...  Iris-virginica         NaN        NaN\n",
              "149  150            5.9           3.0  ...  Iris-virginica         NaN        NaN\n",
              "\n",
              "[5 rows x 8 columns]"
            ]
          },
          "metadata": {
            "tags": []
          },
          "execution_count": 5
        }
      ]
    },
    {
      "cell_type": "code",
      "metadata": {
        "colab": {
          "base_uri": "https://localhost:8080/"
        },
        "id": "oRHfPVWbsCbi",
        "outputId": "68a7e81f-2f66-4ec6-caeb-edffa4ef5905"
      },
      "source": [
        "data.shape"
      ],
      "execution_count": 6,
      "outputs": [
        {
          "output_type": "execute_result",
          "data": {
            "text/plain": [
              "(150, 8)"
            ]
          },
          "metadata": {
            "tags": []
          },
          "execution_count": 6
        }
      ]
    },
    {
      "cell_type": "code",
      "metadata": {
        "colab": {
          "base_uri": "https://localhost:8080/",
          "height": 254
        },
        "id": "IaEyfNyptCXb",
        "outputId": "e54b92ba-048a-4b19-a084-98f9b1b33009"
      },
      "source": [
        "data.describe().transpose().round(2)"
      ],
      "execution_count": 7,
      "outputs": [
        {
          "output_type": "execute_result",
          "data": {
            "text/html": [
              "<div>\n",
              "<style scoped>\n",
              "    .dataframe tbody tr th:only-of-type {\n",
              "        vertical-align: middle;\n",
              "    }\n",
              "\n",
              "    .dataframe tbody tr th {\n",
              "        vertical-align: top;\n",
              "    }\n",
              "\n",
              "    .dataframe thead th {\n",
              "        text-align: right;\n",
              "    }\n",
              "</style>\n",
              "<table border=\"1\" class=\"dataframe\">\n",
              "  <thead>\n",
              "    <tr style=\"text-align: right;\">\n",
              "      <th></th>\n",
              "      <th>count</th>\n",
              "      <th>mean</th>\n",
              "      <th>std</th>\n",
              "      <th>min</th>\n",
              "      <th>25%</th>\n",
              "      <th>50%</th>\n",
              "      <th>75%</th>\n",
              "      <th>max</th>\n",
              "    </tr>\n",
              "  </thead>\n",
              "  <tbody>\n",
              "    <tr>\n",
              "      <th>Id</th>\n",
              "      <td>150.0</td>\n",
              "      <td>75.50</td>\n",
              "      <td>43.45</td>\n",
              "      <td>1.0</td>\n",
              "      <td>38.25</td>\n",
              "      <td>75.50</td>\n",
              "      <td>112.75</td>\n",
              "      <td>150.0</td>\n",
              "    </tr>\n",
              "    <tr>\n",
              "      <th>SepalLengthCm</th>\n",
              "      <td>150.0</td>\n",
              "      <td>5.84</td>\n",
              "      <td>0.83</td>\n",
              "      <td>4.3</td>\n",
              "      <td>5.10</td>\n",
              "      <td>5.80</td>\n",
              "      <td>6.40</td>\n",
              "      <td>7.9</td>\n",
              "    </tr>\n",
              "    <tr>\n",
              "      <th>SepalWidthCm</th>\n",
              "      <td>150.0</td>\n",
              "      <td>3.05</td>\n",
              "      <td>0.43</td>\n",
              "      <td>2.0</td>\n",
              "      <td>2.80</td>\n",
              "      <td>3.00</td>\n",
              "      <td>3.30</td>\n",
              "      <td>4.4</td>\n",
              "    </tr>\n",
              "    <tr>\n",
              "      <th>PetalLengthCm</th>\n",
              "      <td>150.0</td>\n",
              "      <td>3.76</td>\n",
              "      <td>1.76</td>\n",
              "      <td>1.0</td>\n",
              "      <td>1.60</td>\n",
              "      <td>4.35</td>\n",
              "      <td>5.10</td>\n",
              "      <td>6.9</td>\n",
              "    </tr>\n",
              "    <tr>\n",
              "      <th>PetalWidthCm</th>\n",
              "      <td>150.0</td>\n",
              "      <td>1.20</td>\n",
              "      <td>0.76</td>\n",
              "      <td>0.1</td>\n",
              "      <td>0.30</td>\n",
              "      <td>1.30</td>\n",
              "      <td>1.80</td>\n",
              "      <td>2.5</td>\n",
              "    </tr>\n",
              "    <tr>\n",
              "      <th>Unnamed: 6</th>\n",
              "      <td>0.0</td>\n",
              "      <td>NaN</td>\n",
              "      <td>NaN</td>\n",
              "      <td>NaN</td>\n",
              "      <td>NaN</td>\n",
              "      <td>NaN</td>\n",
              "      <td>NaN</td>\n",
              "      <td>NaN</td>\n",
              "    </tr>\n",
              "    <tr>\n",
              "      <th>Unnamed: 7</th>\n",
              "      <td>0.0</td>\n",
              "      <td>NaN</td>\n",
              "      <td>NaN</td>\n",
              "      <td>NaN</td>\n",
              "      <td>NaN</td>\n",
              "      <td>NaN</td>\n",
              "      <td>NaN</td>\n",
              "      <td>NaN</td>\n",
              "    </tr>\n",
              "  </tbody>\n",
              "</table>\n",
              "</div>"
            ],
            "text/plain": [
              "               count   mean    std  min    25%    50%     75%    max\n",
              "Id             150.0  75.50  43.45  1.0  38.25  75.50  112.75  150.0\n",
              "SepalLengthCm  150.0   5.84   0.83  4.3   5.10   5.80    6.40    7.9\n",
              "SepalWidthCm   150.0   3.05   0.43  2.0   2.80   3.00    3.30    4.4\n",
              "PetalLengthCm  150.0   3.76   1.76  1.0   1.60   4.35    5.10    6.9\n",
              "PetalWidthCm   150.0   1.20   0.76  0.1   0.30   1.30    1.80    2.5\n",
              "Unnamed: 6       0.0    NaN    NaN  NaN    NaN    NaN     NaN    NaN\n",
              "Unnamed: 7       0.0    NaN    NaN  NaN    NaN    NaN     NaN    NaN"
            ]
          },
          "metadata": {
            "tags": []
          },
          "execution_count": 7
        }
      ]
    },
    {
      "cell_type": "code",
      "metadata": {
        "colab": {
          "base_uri": "https://localhost:8080/"
        },
        "id": "QfPvfxhPtvpF",
        "outputId": "dc6ceea4-5c60-4679-c32e-3c7dcc6c5b70"
      },
      "source": [
        "data.columns"
      ],
      "execution_count": 8,
      "outputs": [
        {
          "output_type": "execute_result",
          "data": {
            "text/plain": [
              "Index(['Id', 'SepalLengthCm', 'SepalWidthCm', 'PetalLengthCm', 'PetalWidthCm',\n",
              "       'Species', 'Unnamed: 6', 'Unnamed: 7'],\n",
              "      dtype='object')"
            ]
          },
          "metadata": {
            "tags": []
          },
          "execution_count": 8
        }
      ]
    },
    {
      "cell_type": "code",
      "metadata": {
        "colab": {
          "base_uri": "https://localhost:8080/",
          "height": 312
        },
        "id": "7QoA-92VteDM",
        "outputId": "5507955d-e6b5-47f5-fcae-4fdf13a5c129"
      },
      "source": [
        "plt.title('Types in Iris')\r\n",
        "sns.countplot(x=\"Species\", data=data, palette = 'Blues', edgecolor='Black')"
      ],
      "execution_count": 11,
      "outputs": [
        {
          "output_type": "execute_result",
          "data": {
            "text/plain": [
              "<matplotlib.axes._subplots.AxesSubplot at 0x7ff0470ed5d0>"
            ]
          },
          "metadata": {
            "tags": []
          },
          "execution_count": 11
        },
        {
          "output_type": "display_data",
          "data": {
            "image/png": "[encoded data removed]",
            "text/plain": [
              "<Figure size 432x288 with 1 Axes>"
            ]
          },
          "metadata": {
            "tags": [],
            "needs_background": "light"
          }
        }
      ]
    },
    {
      "cell_type": "markdown",
      "metadata": {
        "id": "wTJrwxU5vSEl"
      },
      "source": [
        "**Distribution**"
      ]
    },
    {
      "cell_type": "code",
      "metadata": {
        "colab": {
          "base_uri": "https://localhost:8080/",
          "height": 1000
        },
        "id": "H7JEMS1iuGVl",
        "outputId": "9aecc833-578b-40f8-cd56-2dfe1693fe5e"
      },
      "source": [
        "sepal_length = data['SepalLengthCm']\r\n",
        "plt.hist(sepal_length , bins=15)\r\n",
        "plt.show()\r\n",
        "sepal_width = data['SepalWidthCm']\r\n",
        "plt.hist(sepal_width , bins=15)\r\n",
        "plt.show()\r\n",
        "petal_length = data['PetalLengthCm']\r\n",
        "plt.hist(petal_length , bins=15)\r\n",
        "plt.show()\r\n",
        "petal_width = data['PetalWidthCm']\r\n",
        "plt.hist(petal_width , bins=15)\r\n",
        "plt.show()\r\n"
      ],
      "execution_count": 14,
      "outputs": [
        {
          "output_type": "display_data",
          "data": {
            "image/png": "[encoded data removed]",
            "text/plain": [
              "<Figure size 432x288 with 1 Axes>"
            ]
          },
          "metadata": {
            "tags": [],
            "needs_background": "light"
          }
        },
        {
          "output_type": "display_data",
          "data": {
            "image/png": "[encoded data removed]",
            "text/plain": [
              "<Figure size 432x288 with 1 Axes>"
            ]
          },
          "metadata": {
            "tags": [],
            "needs_background": "light"
          }
        },
        {
          "output_type": "display_data",
          "data": {
            "image/png": "[encoded data removed]",
            "text/plain": [
              "<Figure size 432x288 with 1 Axes>"
            ]
          },
          "metadata": {
            "tags": [],
            "needs_background": "light"
          }
        },
        {
          "output_type": "display_data",
          "data": {
            "image/png": "[encoded data removed]",
            "text/plain": [
              "<Figure size 432x288 with 1 Axes>"
            ]
          },
          "metadata": {
            "tags": [],
            "needs_background": "light"
          }
        }
      ]
    },
    {
      "cell_type": "markdown",
      "metadata": {
        "id": "lK9iWviLvvpl"
      },
      "source": [
        "**Modelling and prediction**"
      ]
    },
    {
      "cell_type": "code",
      "metadata": {
        "id": "S8sRusOwg80N"
      },
      "source": [
        "X = data.iloc[:, 1:5].values\r\n",
        "y = data.iloc[:, 5].values"
      ],
      "execution_count": 15,
      "outputs": []
    },
    {
      "cell_type": "code",
      "metadata": {
        "colab": {
          "base_uri": "https://localhost:8080/"
        },
        "id": "W8rNJP08hQh8",
        "outputId": "cd4e10cf-39be-47c7-c20a-a95ed34d9f58"
      },
      "source": [
        "X[:5,:]"
      ],
      "execution_count": 16,
      "outputs": [
        {
          "output_type": "execute_result",
          "data": {
            "text/plain": [
              "array([[5.1, 3.5, 1.4, 0.2],\n",
              "       [4.9, 3. , 1.4, 0.2],\n",
              "       [4.7, 3.2, 1.3, 0.2],\n",
              "       [4.6, 3.1, 1.5, 0.2],\n",
              "       [5. , 3.6, 1.4, 0.2]])"
            ]
          },
          "metadata": {
            "tags": []
          },
          "execution_count": 16
        }
      ]
    },
    {
      "cell_type": "code",
      "metadata": {
        "colab": {
          "base_uri": "https://localhost:8080/"
        },
        "id": "OgG-V7INh7hn",
        "outputId": "03c9c9be-e511-49d1-cdfa-8894ff93c2b5"
      },
      "source": [
        "y[:5,]"
      ],
      "execution_count": null,
      "outputs": [
        {
          "output_type": "execute_result",
          "data": {
            "text/plain": [
              "array(['Iris-setosa', 'Iris-setosa', 'Iris-setosa', 'Iris-setosa',\n",
              "       'Iris-setosa'], dtype=object)"
            ]
          },
          "metadata": {
            "tags": []
          },
          "execution_count": 30
        }
      ]
    },
    {
      "cell_type": "markdown",
      "metadata": {
        "id": "Ge-tzkaWkOIM"
      },
      "source": [
        "Missing Data detection and substituting it with required strategic number"
      ]
    },
    {
      "cell_type": "code",
      "metadata": {
        "id": "Hzy3LaIXjUS7"
      },
      "source": [
        "from sklearn.impute import SimpleImputer\r\n",
        "imputer = SimpleImputer(missing_values=np.nan, strategy='mean')\r\n",
        "imputer.fit(X[:, 1:5])\r\n",
        "X[:, 1:5] = imputer.transform(X[:, 1:5])"
      ],
      "execution_count": null,
      "outputs": []
    },
    {
      "cell_type": "markdown",
      "metadata": {
        "id": "rA56YTK6kbmT"
      },
      "source": [
        "Encoding dependent variable"
      ]
    },
    {
      "cell_type": "code",
      "metadata": {
        "id": "XgHCShVyTOYY"
      },
      "source": [
        "from sklearn.preprocessing import LabelEncoder\n",
        "le = LabelEncoder()\n",
        "y = le.fit_transform(y)"
      ],
      "execution_count": null,
      "outputs": []
    },
    {
      "cell_type": "code",
      "metadata": {
        "colab": {
          "base_uri": "https://localhost:8080/"
        },
        "id": "R5x0Z0K2kmxM",
        "outputId": "373b801f-d4f5-421f-a304-104489415259"
      },
      "source": [
        "y"
      ],
      "execution_count": null,
      "outputs": [
        {
          "output_type": "execute_result",
          "data": {
            "text/plain": [
              "array([0, 0, 0, 0, 0, 0, 0, 0, 0, 0, 0, 0, 0, 0, 0, 0, 0, 0, 0, 0, 0, 0,\n",
              "       0, 0, 0, 0, 0, 0, 0, 0, 0, 0, 0, 0, 0, 0, 0, 0, 0, 0, 0, 0, 0, 0,\n",
              "       0, 0, 0, 0, 0, 0, 1, 1, 1, 1, 1, 1, 1, 1, 1, 1, 1, 1, 1, 1, 1, 1,\n",
              "       1, 1, 1, 1, 1, 1, 1, 1, 1, 1, 1, 1, 1, 1, 1, 1, 1, 1, 1, 1, 1, 1,\n",
              "       1, 1, 1, 1, 1, 1, 1, 1, 1, 1, 1, 1, 2, 2, 2, 2, 2, 2, 2, 2, 2, 2,\n",
              "       2, 2, 2, 2, 2, 2, 2, 2, 2, 2, 2, 2, 2, 2, 2, 2, 2, 2, 2, 2, 2, 2,\n",
              "       2, 2, 2, 2, 2, 2, 2, 2, 2, 2, 2, 2, 2, 2, 2, 2, 2, 2])"
            ]
          },
          "metadata": {
            "tags": []
          },
          "execution_count": 35
        }
      ]
    },
    {
      "cell_type": "markdown",
      "metadata": {
        "id": "EN2XOqawkyCW"
      },
      "source": [
        "Splitting the data (test and train sets)"
      ]
    },
    {
      "cell_type": "code",
      "metadata": {
        "id": "pXgA6CzlqbCl"
      },
      "source": [
        "from sklearn.model_selection import train_test_split\n",
        "X_train, X_test, y_train, y_test = train_test_split(X, y, test_size = 0.1, random_state = 4)"
      ],
      "execution_count": null,
      "outputs": []
    },
    {
      "cell_type": "code",
      "metadata": {
        "colab": {
          "base_uri": "https://localhost:8080/"
        },
        "id": "l3AVrtfBlB5f",
        "outputId": "c73d8702-a6fa-4949-8675-d857b2f9a161"
      },
      "source": [
        "X_train"
      ],
      "execution_count": null,
      "outputs": [
        {
          "output_type": "execute_result",
          "data": {
            "text/plain": [
              "array([[4.9, 3.1, 1.5, 0.1],\n",
              "       [5. , 2. , 3.5, 1. ],\n",
              "       [4.7, 3.2, 1.3, 0.2],\n",
              "       [4.8, 3.4, 1.9, 0.2],\n",
              "       [6.3, 2.7, 4.9, 1.8],\n",
              "       [5. , 3.2, 1.2, 0.2],\n",
              "       [6.7, 3.3, 5.7, 2.1],\n",
              "       [6.2, 2.2, 4.5, 1.5],\n",
              "       [5. , 3.4, 1.6, 0.4],\n",
              "       [4.7, 3.2, 1.6, 0.2],\n",
              "       [5.1, 3.8, 1.5, 0.3],\n",
              "       [4.5, 2.3, 1.3, 0.3],\n",
              "       [5.4, 3.9, 1.3, 0.4],\n",
              "       [5.4, 3.4, 1.7, 0.2],\n",
              "       [5.8, 2.7, 5.1, 1.9],\n",
              "       [5.4, 3. , 4.5, 1.5],\n",
              "       [4.6, 3.2, 1.4, 0.2],\n",
              "       [6.7, 2.5, 5.8, 1.8],\n",
              "       [4.9, 3. , 1.4, 0.2],\n",
              "       [5. , 2.3, 3.3, 1. ],\n",
              "       [6.7, 3.3, 5.7, 2.5],\n",
              "       [7.2, 3.2, 6. , 1.8],\n",
              "       [5.8, 2.6, 4. , 1.2],\n",
              "       [6.7, 3.1, 4.7, 1.5],\n",
              "       [5.1, 3.8, 1.6, 0.2],\n",
              "       [7.7, 3. , 6.1, 2.3],\n",
              "       [5. , 3.4, 1.5, 0.2],\n",
              "       [6.7, 3.1, 4.4, 1.4],\n",
              "       [5.4, 3.7, 1.5, 0.2],\n",
              "       [6.4, 2.8, 5.6, 2.2],\n",
              "       [4.3, 3. , 1.1, 0.1],\n",
              "       [5.7, 4.4, 1.5, 0.4],\n",
              "       [5.9, 3. , 4.2, 1.5],\n",
              "       [6.1, 3. , 4.6, 1.4],\n",
              "       [6.5, 3. , 5.5, 1.8],\n",
              "       [5.2, 3.5, 1.5, 0.2],\n",
              "       [5.6, 2.5, 3.9, 1.1],\n",
              "       [7.7, 2.6, 6.9, 2.3],\n",
              "       [6.3, 3.4, 5.6, 2.4],\n",
              "       [6.2, 2.9, 4.3, 1.3],\n",
              "       [5.7, 2.9, 4.2, 1.3],\n",
              "       [5. , 3.5, 1.6, 0.6],\n",
              "       [5.6, 2.9, 3.6, 1.3],\n",
              "       [6. , 2.2, 5. , 1.5],\n",
              "       [5.5, 2.6, 4.4, 1.2],\n",
              "       [4.6, 3.4, 1.4, 0.3],\n",
              "       [5.6, 3. , 4.1, 1.3],\n",
              "       [5.1, 3.4, 1.5, 0.2],\n",
              "       [6.4, 2.9, 4.3, 1.3],\n",
              "       [6.8, 3. , 5.5, 2.1],\n",
              "       [6.7, 3. , 5. , 1.7],\n",
              "       [6.5, 3.2, 5.1, 2. ],\n",
              "       [6. , 3.4, 4.5, 1.6],\n",
              "       [4.9, 3.1, 1.5, 0.1],\n",
              "       [4.9, 2.5, 4.5, 1.7],\n",
              "       [6.9, 3.2, 5.7, 2.3],\n",
              "       [5.4, 3.4, 1.5, 0.4],\n",
              "       [5.5, 2.4, 3.8, 1.1],\n",
              "       [6.3, 3.3, 6. , 2.5],\n",
              "       [5. , 3.6, 1.4, 0.2],\n",
              "       [6.1, 3. , 4.9, 1.8],\n",
              "       [6.5, 2.8, 4.6, 1.5],\n",
              "       [5.9, 3. , 5.1, 1.8],\n",
              "       [6.3, 2.5, 4.9, 1.5],\n",
              "       [4.9, 3.1, 1.5, 0.1],\n",
              "       [6.1, 2.6, 5.6, 1.4],\n",
              "       [6.4, 3.2, 4.5, 1.5],\n",
              "       [7.1, 3. , 5.9, 2.1],\n",
              "       [5.5, 3.5, 1.3, 0.2],\n",
              "       [6.4, 2.7, 5.3, 1.9],\n",
              "       [5.5, 2.3, 4. , 1.3],\n",
              "       [6.9, 3.1, 5.4, 2.1],\n",
              "       [5.8, 2.7, 3.9, 1.2],\n",
              "       [5.8, 2.7, 5.1, 1.9],\n",
              "       [6.1, 2.8, 4. , 1.3],\n",
              "       [5.9, 3.2, 4.8, 1.8],\n",
              "       [6.2, 3.4, 5.4, 2.3],\n",
              "       [5.7, 2.8, 4.1, 1.3],\n",
              "       [6.6, 3. , 4.4, 1.4],\n",
              "       [5.8, 2.8, 5.1, 2.4],\n",
              "       [6. , 2.2, 4. , 1. ],\n",
              "       [5.8, 2.7, 4.1, 1. ],\n",
              "       [4.6, 3.6, 1. , 0.2],\n",
              "       [6.7, 3.1, 5.6, 2.4],\n",
              "       [5.1, 3.3, 1.7, 0.5],\n",
              "       [6.8, 2.8, 4.8, 1.4],\n",
              "       [5.3, 3.7, 1.5, 0.2],\n",
              "       [5.2, 2.7, 3.9, 1.4],\n",
              "       [6.1, 2.8, 4.7, 1.2],\n",
              "       [5.5, 2.5, 4. , 1.3],\n",
              "       [5.5, 2.4, 3.7, 1. ],\n",
              "       [5.1, 3.5, 1.4, 0.3],\n",
              "       [6.7, 3. , 5.2, 2.3],\n",
              "       [6. , 3. , 4.8, 1.8],\n",
              "       [5.7, 3. , 4.2, 1.2],\n",
              "       [5.1, 2.5, 3. , 1.1],\n",
              "       [5.7, 2.6, 3.5, 1. ],\n",
              "       [4.6, 3.1, 1.5, 0.2],\n",
              "       [5.2, 3.4, 1.4, 0.2],\n",
              "       [6.9, 3.1, 5.1, 2.3],\n",
              "       [5.6, 2.8, 4.9, 2. ],\n",
              "       [5.5, 4.2, 1.4, 0.2],\n",
              "       [4.8, 3. , 1.4, 0.3],\n",
              "       [4.4, 3.2, 1.3, 0.2],\n",
              "       [6.4, 3.2, 5.3, 2.3],\n",
              "       [5. , 3.5, 1.3, 0.3],\n",
              "       [5.2, 4.1, 1.5, 0.1],\n",
              "       [6.3, 2.5, 5. , 1.9],\n",
              "       [6.8, 3.2, 5.9, 2.3],\n",
              "       [5.6, 3. , 4.5, 1.5],\n",
              "       [5. , 3.3, 1.4, 0.2],\n",
              "       [4.4, 2.9, 1.4, 0.2],\n",
              "       [4.8, 3.1, 1.6, 0.2],\n",
              "       [7.7, 3.8, 6.7, 2.2],\n",
              "       [6.3, 3.3, 4.7, 1.6],\n",
              "       [5.1, 3.7, 1.5, 0.4],\n",
              "       [5.1, 3.5, 1.4, 0.2],\n",
              "       [7.9, 3.8, 6.4, 2. ],\n",
              "       [6.9, 3.1, 4.9, 1.5],\n",
              "       [6.2, 2.8, 4.8, 1.8],\n",
              "       [4.4, 3. , 1.3, 0.2],\n",
              "       [5.1, 3.8, 1.9, 0.4],\n",
              "       [6.5, 3. , 5.2, 2. ],\n",
              "       [4.9, 2.4, 3.3, 1. ],\n",
              "       [5.7, 2.8, 4.5, 1.3],\n",
              "       [5.6, 2.7, 4.2, 1.3],\n",
              "       [7.2, 3.6, 6.1, 2.5],\n",
              "       [6.3, 2.9, 5.6, 1.8],\n",
              "       [6.6, 2.9, 4.6, 1.3],\n",
              "       [6.4, 3.1, 5.5, 1.8],\n",
              "       [7. , 3.2, 4.7, 1.4],\n",
              "       [6.3, 2.3, 4.4, 1.3],\n",
              "       [6.5, 3. , 5.8, 2.2],\n",
              "       [7.2, 3. , 5.8, 1.6],\n",
              "       [7.7, 2.8, 6.7, 2. ]])"
            ]
          },
          "metadata": {
            "tags": []
          },
          "execution_count": 39
        }
      ]
    },
    {
      "cell_type": "code",
      "metadata": {
        "colab": {
          "base_uri": "https://localhost:8080/"
        },
        "id": "0K14EXldlDzn",
        "outputId": "c2f71aa5-e524-446f-f9fe-422111b63c56"
      },
      "source": [
        "y_train"
      ],
      "execution_count": null,
      "outputs": [
        {
          "output_type": "execute_result",
          "data": {
            "text/plain": [
              "array([0, 1, 0, 0, 2, 0, 2, 1, 0, 0, 0, 0, 0, 0, 2, 1, 0, 2, 0, 1, 2, 2,\n",
              "       1, 1, 0, 2, 0, 1, 0, 2, 0, 0, 1, 1, 2, 0, 1, 2, 2, 1, 1, 0, 1, 2,\n",
              "       1, 0, 1, 0, 1, 2, 1, 2, 1, 0, 2, 2, 0, 1, 2, 0, 2, 1, 2, 1, 0, 2,\n",
              "       1, 2, 0, 2, 1, 2, 1, 2, 1, 1, 2, 1, 1, 2, 1, 1, 0, 2, 0, 1, 0, 1,\n",
              "       1, 1, 1, 0, 2, 2, 1, 1, 1, 0, 0, 2, 2, 0, 0, 0, 2, 0, 0, 2, 2, 1,\n",
              "       0, 0, 0, 2, 1, 0, 0, 2, 1, 2, 0, 0, 2, 1, 1, 1, 2, 2, 1, 2, 1, 1,\n",
              "       2, 2, 2])"
            ]
          },
          "metadata": {
            "tags": []
          },
          "execution_count": 40
        }
      ]
    },
    {
      "cell_type": "code",
      "metadata": {
        "colab": {
          "base_uri": "https://localhost:8080/"
        },
        "id": "ehvb7nHllFaW",
        "outputId": "04d63c1c-229d-4d05-a1e5-555cb1f73504"
      },
      "source": [
        "X_test"
      ],
      "execution_count": null,
      "outputs": [
        {
          "output_type": "execute_result",
          "data": {
            "text/plain": [
              "array([[6.4, 2.8, 5.6, 2.1],\n",
              "       [5.7, 3.8, 1.7, 0.3],\n",
              "       [7.4, 2.8, 6.1, 1.9],\n",
              "       [7.6, 3. , 6.6, 2.1],\n",
              "       [7.3, 2.9, 6.3, 1.8],\n",
              "       [6. , 2.9, 4.5, 1.5],\n",
              "       [6. , 2.7, 5.1, 1.6],\n",
              "       [5.8, 4. , 1.2, 0.2],\n",
              "       [5.4, 3.9, 1.7, 0.4],\n",
              "       [6.3, 2.8, 5.1, 1.5],\n",
              "       [5. , 3. , 1.6, 0.2],\n",
              "       [4.8, 3.4, 1.6, 0.2],\n",
              "       [4.8, 3. , 1.4, 0.1],\n",
              "       [6.1, 2.9, 4.7, 1.4],\n",
              "       [5.7, 2.5, 5. , 2. ]])"
            ]
          },
          "metadata": {
            "tags": []
          },
          "execution_count": 41
        }
      ]
    },
    {
      "cell_type": "code",
      "metadata": {
        "colab": {
          "base_uri": "https://localhost:8080/"
        },
        "id": "0P2n70kBlHLV",
        "outputId": "721e7022-0b02-437a-f37f-317f1bde0463"
      },
      "source": [
        "y_test"
      ],
      "execution_count": null,
      "outputs": [
        {
          "output_type": "execute_result",
          "data": {
            "text/plain": [
              "array([2, 0, 2, 2, 2, 1, 1, 0, 0, 2, 0, 0, 0, 1, 2])"
            ]
          },
          "metadata": {
            "tags": []
          },
          "execution_count": 42
        }
      ]
    },
    {
      "cell_type": "markdown",
      "metadata": {
        "id": "X3_UY3fslZlp"
      },
      "source": [
        "Feature scaling"
      ]
    },
    {
      "cell_type": "code",
      "metadata": {
        "id": "AxjSUXFQqo-3"
      },
      "source": [
        "from sklearn.preprocessing import StandardScaler\n",
        "sc = StandardScaler()\n",
        "X_train[:, :] = sc.fit_transform(X_train[:, :])\n",
        "X_test[:, :] = sc.transform(X_test[:, :])"
      ],
      "execution_count": null,
      "outputs": []
    },
    {
      "cell_type": "code",
      "metadata": {
        "colab": {
          "base_uri": "https://localhost:8080/"
        },
        "id": "mr8XNyEjl58P",
        "outputId": "6cdd1d59-abf2-4ea3-b883-85247a6511bb"
      },
      "source": [
        "X_train"
      ],
      "execution_count": null,
      "outputs": [
        {
          "output_type": "execute_result",
          "data": {
            "text/plain": [
              "array([[-1.12677738,  0.11700926, -1.29793486, -1.45549183],\n",
              "       [-1.00479266, -2.4382665 , -0.14174082, -0.26863104],\n",
              "       [-1.37074682,  0.34930706, -1.41355426, -1.32361841],\n",
              "       [-1.2487621 ,  0.81390265, -1.06669605, -1.32361841],\n",
              "       [ 0.5810087 , -0.81218193,  0.667595  ,  0.78635632],\n",
              "       [-1.00479266,  0.34930706, -1.47136396, -1.32361841],\n",
              "       [ 1.06894759,  0.58160485,  1.13007261,  1.18197658],\n",
              "       [ 0.45902398, -1.97367091,  0.43635619,  0.39073606],\n",
              "       [-1.00479266,  0.81390265, -1.24012516, -1.05987157],\n",
              "       [-1.37074682,  0.34930706, -1.24012516, -1.32361841],\n",
              "       [-0.88280794,  1.74309384, -1.29793486, -1.19174499],\n",
              "       [-1.61471626, -1.74137311, -1.41355426, -1.19174499],\n",
              "       [-0.51685378,  1.97539163, -1.41355426, -1.05987157],\n",
              "       [-0.51685378,  0.81390265, -1.18231546, -1.32361841],\n",
              "       [-0.0289149 , -0.81218193,  0.7832144 ,  0.91822974],\n",
              "       [-0.51685378, -0.11528854,  0.43635619,  0.39073606],\n",
              "       [-1.49273154,  0.34930706, -1.35574456, -1.32361841],\n",
              "       [ 1.06894759, -1.27677752,  1.18788232,  0.78635632],\n",
              "       [-1.12677738, -0.11528854, -1.35574456, -1.32361841],\n",
              "       [-1.00479266, -1.74137311, -0.25736023, -0.26863104],\n",
              "       [ 1.06894759,  0.58160485,  1.13007261,  1.70947027],\n",
              "       [ 1.67887119,  0.34930706,  1.30350172,  0.78635632],\n",
              "       [-0.0289149 , -1.04447972,  0.14730768, -0.0048842 ],\n",
              "       [ 1.06894759,  0.11700926,  0.5519756 ,  0.39073606],\n",
              "       [-0.88280794,  1.74309384, -1.24012516, -1.32361841],\n",
              "       [ 2.28879479, -0.11528854,  1.36131142,  1.44572343],\n",
              "       [-1.00479266,  0.81390265, -1.29793486, -1.32361841],\n",
              "       [ 1.06894759,  0.11700926,  0.37854649,  0.25886264],\n",
              "       [-0.51685378,  1.51079604, -1.29793486, -1.32361841],\n",
              "       [ 0.70299343, -0.57988413,  1.07226291,  1.31385001],\n",
              "       [-1.8586857 , -0.11528854, -1.52917367, -1.45549183],\n",
              "       [-0.15089962,  3.13688062, -1.29793486, -1.05987157],\n",
              "       [ 0.09306982, -0.11528854,  0.26292709,  0.39073606],\n",
              "       [ 0.33703926, -0.11528854,  0.49416589,  0.25886264],\n",
              "       [ 0.82497815, -0.11528854,  1.01445321,  0.78635632],\n",
              "       [-0.76082322,  1.04620045, -1.29793486, -1.32361841],\n",
              "       [-0.27288434, -1.27677752,  0.08949798, -0.13675762],\n",
              "       [ 2.28879479, -1.04447972,  1.82378903,  1.44572343],\n",
              "       [ 0.5810087 ,  0.81390265,  1.07226291,  1.57759685],\n",
              "       [ 0.45902398, -0.34758633,  0.32073679,  0.12698922],\n",
              "       [-0.15089962, -0.34758633,  0.26292709,  0.12698922],\n",
              "       [-1.00479266,  1.04620045, -1.24012516, -0.79612472],\n",
              "       [-0.27288434, -0.34758633, -0.08393112,  0.12698922],\n",
              "       [ 0.21505454, -1.97367091,  0.7254047 ,  0.39073606],\n",
              "       [-0.39486906, -1.04447972,  0.37854649, -0.0048842 ],\n",
              "       [-1.49273154,  0.81390265, -1.35574456, -1.19174499],\n",
              "       [-0.27288434, -0.11528854,  0.20511739,  0.12698922],\n",
              "       [-0.88280794,  0.81390265, -1.29793486, -1.32361841],\n",
              "       [ 0.70299343, -0.34758633,  0.32073679,  0.12698922],\n",
              "       [ 1.19093231, -0.11528854,  1.01445321,  1.18197658],\n",
              "       [ 1.06894759, -0.11528854,  0.7254047 ,  0.6544829 ],\n",
              "       [ 0.82497815,  0.34930706,  0.7832144 ,  1.05010316],\n",
              "       [ 0.21505454,  0.81390265,  0.43635619,  0.52260948],\n",
              "       [-1.12677738,  0.11700926, -1.29793486, -1.45549183],\n",
              "       [-1.12677738, -1.27677752,  0.43635619,  0.6544829 ],\n",
              "       [ 1.31291703,  0.34930706,  1.13007261,  1.44572343],\n",
              "       [-0.51685378,  0.81390265, -1.29793486, -1.05987157],\n",
              "       [-0.39486906, -1.50907532,  0.03168828, -0.13675762],\n",
              "       [ 0.5810087 ,  0.58160485,  1.30350172,  1.70947027],\n",
              "       [-1.00479266,  1.27849824, -1.35574456, -1.32361841],\n",
              "       [ 0.33703926, -0.11528854,  0.667595  ,  0.78635632],\n",
              "       [ 0.82497815, -0.57988413,  0.49416589,  0.39073606],\n",
              "       [ 0.09306982, -0.11528854,  0.7832144 ,  0.78635632],\n",
              "       [ 0.5810087 , -1.27677752,  0.667595  ,  0.39073606],\n",
              "       [-1.12677738,  0.11700926, -1.29793486, -1.45549183],\n",
              "       [ 0.33703926, -1.04447972,  1.07226291,  0.25886264],\n",
              "       [ 0.70299343,  0.34930706,  0.43635619,  0.39073606],\n",
              "       [ 1.55688647, -0.11528854,  1.24569202,  1.18197658],\n",
              "       [-0.39486906,  1.04620045, -1.41355426, -1.32361841],\n",
              "       [ 0.70299343, -0.81218193,  0.89883381,  0.91822974],\n",
              "       [-0.39486906, -1.74137311,  0.14730768,  0.12698922],\n",
              "       [ 1.31291703,  0.11700926,  0.95664351,  1.18197658],\n",
              "       [-0.0289149 , -0.81218193,  0.08949798, -0.0048842 ],\n",
              "       [-0.0289149 , -0.81218193,  0.7832144 ,  0.91822974],\n",
              "       [ 0.33703926, -0.57988413,  0.14730768,  0.12698922],\n",
              "       [ 0.09306982,  0.34930706,  0.6097853 ,  0.78635632],\n",
              "       [ 0.45902398,  0.81390265,  0.95664351,  1.44572343],\n",
              "       [-0.15089962, -0.57988413,  0.20511739,  0.12698922],\n",
              "       [ 0.94696287, -0.11528854,  0.37854649,  0.25886264],\n",
              "       [-0.0289149 , -0.57988413,  0.7832144 ,  1.57759685],\n",
              "       [ 0.21505454, -1.97367091,  0.14730768, -0.26863104],\n",
              "       [-0.0289149 , -0.81218193,  0.20511739, -0.26863104],\n",
              "       [-1.49273154,  1.27849824, -1.58698337, -1.32361841],\n",
              "       [ 1.06894759,  0.11700926,  1.07226291,  1.57759685],\n",
              "       [-0.88280794,  0.58160485, -1.18231546, -0.92799814],\n",
              "       [ 1.19093231, -0.57988413,  0.6097853 ,  0.25886264],\n",
              "       [-0.6388385 ,  1.51079604, -1.29793486, -1.32361841],\n",
              "       [-0.76082322, -0.81218193,  0.08949798,  0.25886264],\n",
              "       [ 0.33703926, -0.57988413,  0.5519756 , -0.0048842 ],\n",
              "       [-0.39486906, -1.27677752,  0.14730768,  0.12698922],\n",
              "       [-0.39486906, -1.50907532, -0.02612142, -0.26863104],\n",
              "       [-0.88280794,  1.04620045, -1.35574456, -1.19174499],\n",
              "       [ 1.06894759, -0.11528854,  0.84102411,  1.44572343],\n",
              "       [ 0.21505454, -0.11528854,  0.6097853 ,  0.78635632],\n",
              "       [-0.15089962, -0.11528854,  0.26292709, -0.0048842 ],\n",
              "       [-0.88280794, -1.27677752, -0.43078933, -0.13675762],\n",
              "       [-0.15089962, -1.04447972, -0.14174082, -0.26863104],\n",
              "       [-1.49273154,  0.11700926, -1.29793486, -1.32361841],\n",
              "       [-0.76082322,  0.81390265, -1.35574456, -1.32361841],\n",
              "       [ 1.31291703,  0.11700926,  0.7832144 ,  1.44572343],\n",
              "       [-0.27288434, -0.57988413,  0.667595  ,  1.05010316],\n",
              "       [-0.39486906,  2.67228503, -1.35574456, -1.32361841],\n",
              "       [-1.2487621 , -0.11528854, -1.35574456, -1.19174499],\n",
              "       [-1.73670098,  0.34930706, -1.41355426, -1.32361841],\n",
              "       [ 0.70299343,  0.34930706,  0.89883381,  1.44572343],\n",
              "       [-1.00479266,  1.04620045, -1.41355426, -1.19174499],\n",
              "       [-0.76082322,  2.43998723, -1.29793486, -1.45549183],\n",
              "       [ 0.5810087 , -1.27677752,  0.7254047 ,  0.91822974],\n",
              "       [ 1.19093231,  0.34930706,  1.24569202,  1.44572343],\n",
              "       [-0.27288434, -0.11528854,  0.43635619,  0.39073606],\n",
              "       [-1.00479266,  0.58160485, -1.35574456, -1.32361841],\n",
              "       [-1.73670098, -0.34758633, -1.35574456, -1.32361841],\n",
              "       [-1.2487621 ,  0.11700926, -1.24012516, -1.32361841],\n",
              "       [ 2.28879479,  1.74309384,  1.70816963,  1.31385001],\n",
              "       [ 0.5810087 ,  0.58160485,  0.5519756 ,  0.52260948],\n",
              "       [-0.88280794,  1.51079604, -1.29793486, -1.05987157],\n",
              "       [-0.88280794,  1.04620045, -1.35574456, -1.32361841],\n",
              "       [ 2.53276423,  1.74309384,  1.53474053,  1.05010316],\n",
              "       [ 1.31291703,  0.11700926,  0.667595  ,  0.39073606],\n",
              "       [ 0.45902398, -0.57988413,  0.6097853 ,  0.78635632],\n",
              "       [-1.73670098, -0.11528854, -1.41355426, -1.32361841],\n",
              "       [-0.88280794,  1.74309384, -1.06669605, -1.05987157],\n",
              "       [ 0.82497815, -0.11528854,  0.84102411,  1.05010316],\n",
              "       [-1.12677738, -1.50907532, -0.25736023, -0.26863104],\n",
              "       [-0.15089962, -0.57988413,  0.43635619,  0.12698922],\n",
              "       [-0.27288434, -0.81218193,  0.26292709,  0.12698922],\n",
              "       [ 1.67887119,  1.27849824,  1.36131142,  1.70947027],\n",
              "       [ 0.5810087 , -0.34758633,  1.07226291,  0.78635632],\n",
              "       [ 0.94696287, -0.34758633,  0.49416589,  0.12698922],\n",
              "       [ 0.70299343,  0.11700926,  1.01445321,  0.78635632],\n",
              "       [ 1.43490175,  0.34930706,  0.5519756 ,  0.25886264],\n",
              "       [ 0.5810087 , -1.74137311,  0.37854649,  0.12698922],\n",
              "       [ 0.82497815, -0.11528854,  1.18788232,  1.31385001],\n",
              "       [ 1.67887119, -0.11528854,  1.18788232,  0.52260948],\n",
              "       [ 2.28879479, -0.57988413,  1.70816963,  1.05010316]])"
            ]
          },
          "metadata": {
            "tags": []
          },
          "execution_count": 44
        }
      ]
    },
    {
      "cell_type": "code",
      "metadata": {
        "colab": {
          "base_uri": "https://localhost:8080/"
        },
        "id": "79NLzd1_l8of",
        "outputId": "3ca40d86-9d40-417e-d6a5-be42b0440065"
      },
      "source": [
        "X_test"
      ],
      "execution_count": null,
      "outputs": [
        {
          "output_type": "execute_result",
          "data": {
            "text/plain": [
              "array([[ 0.70299343, -0.57988413,  1.07226291,  1.18197658],\n",
              "       [-0.15089962,  1.74309384, -1.18231546, -1.19174499],\n",
              "       [ 1.92284063, -0.57988413,  1.36131142,  0.91822974],\n",
              "       [ 2.16681007, -0.11528854,  1.65035993,  1.18197658],\n",
              "       [ 1.80085591, -0.34758633,  1.47693082,  0.78635632],\n",
              "       [ 0.21505454, -0.34758633,  0.43635619,  0.39073606],\n",
              "       [ 0.21505454, -0.81218193,  0.7832144 ,  0.52260948],\n",
              "       [-0.0289149 ,  2.20768943, -1.47136396, -1.32361841],\n",
              "       [-0.51685378,  1.97539163, -1.18231546, -1.05987157],\n",
              "       [ 0.5810087 , -0.57988413,  0.7832144 ,  0.39073606],\n",
              "       [-1.00479266, -0.11528854, -1.24012516, -1.32361841],\n",
              "       [-1.2487621 ,  0.81390265, -1.24012516, -1.32361841],\n",
              "       [-1.2487621 , -0.11528854, -1.35574456, -1.45549183],\n",
              "       [ 0.33703926, -0.34758633,  0.5519756 ,  0.25886264],\n",
              "       [-0.15089962, -1.27677752,  0.7254047 ,  1.05010316]])"
            ]
          },
          "metadata": {
            "tags": []
          },
          "execution_count": 46
        }
      ]
    },
    {
      "cell_type": "markdown",
      "metadata": {
        "id": "P5S7jEb4mYa8"
      },
      "source": [
        "***Training the Model (Decision tree)***"
      ]
    },
    {
      "cell_type": "code",
      "metadata": {
        "id": "e0pFVAmciHQs",
        "colab": {
          "base_uri": "https://localhost:8080/"
        },
        "outputId": "a3460679-197c-435d-fb90-3841db5f5c3b"
      },
      "source": [
        "from sklearn.tree import DecisionTreeClassifier\n",
        "classifier = DecisionTreeClassifier(criterion = 'gini', random_state = 0)\n",
        "classifier.fit(X_train, y_train)"
      ],
      "execution_count": null,
      "outputs": [
        {
          "output_type": "execute_result",
          "data": {
            "text/plain": [
              "DecisionTreeClassifier(ccp_alpha=0.0, class_weight=None, criterion='gini',\n",
              "                       max_depth=None, max_features=None, max_leaf_nodes=None,\n",
              "                       min_impurity_decrease=0.0, min_impurity_split=None,\n",
              "                       min_samples_leaf=1, min_samples_split=2,\n",
              "                       min_weight_fraction_leaf=0.0, presort='deprecated',\n",
              "                       random_state=0, splitter='best')"
            ]
          },
          "metadata": {
            "tags": []
          },
          "execution_count": 47
        }
      ]
    },
    {
      "cell_type": "code",
      "metadata": {
        "id": "f8YOXsQy58rP",
        "colab": {
          "base_uri": "https://localhost:8080/"
        },
        "outputId": "7d05f382-4f01-4cbf-9afa-0013b606c53a"
      },
      "source": [
        "print(classifier.predict(sc.transform([[6.5,5.5,3.6,2.5]])))"
      ],
      "execution_count": null,
      "outputs": [
        {
          "output_type": "stream",
          "text": [
            "[2]\n"
          ],
          "name": "stdout"
        }
      ]
    },
    {
      "cell_type": "code",
      "metadata": {
        "id": "wz0pD462nbU7"
      },
      "source": [
        ""
      ],
      "execution_count": null,
      "outputs": []
    },
    {
      "cell_type": "code",
      "metadata": {
        "id": "p6VMTb2O4hwM",
        "colab": {
          "base_uri": "https://localhost:8080/"
        },
        "outputId": "78f26c90-0e4c-47d9-98d5-4a151fae2bc5"
      },
      "source": [
        "y_pred = classifier.predict(X_test)\n",
        "print(np.concatenate((y_pred.reshape(len(y_pred),1), y_test.reshape(len(y_test),1)),1))"
      ],
      "execution_count": null,
      "outputs": [
        {
          "output_type": "stream",
          "text": [
            "[[2 2]\n",
            " [0 0]\n",
            " [2 2]\n",
            " [2 2]\n",
            " [2 2]\n",
            " [1 1]\n",
            " [2 1]\n",
            " [0 0]\n",
            " [0 0]\n",
            " [2 2]\n",
            " [0 0]\n",
            " [0 0]\n",
            " [0 0]\n",
            " [1 1]\n",
            " [2 2]]\n"
          ],
          "name": "stdout"
        }
      ]
    },
    {
      "cell_type": "code",
      "metadata": {
        "id": "D6bpZwUiiXic",
        "colab": {
          "base_uri": "https://localhost:8080/"
        },
        "outputId": "28218379-1291-440d-ef5e-3b4ec2a27052"
      },
      "source": [
        "from sklearn.metrics import confusion_matrix, accuracy_score\n",
        "cm = confusion_matrix(y_test, y_pred)\n",
        "print(cm)\n",
        "accuracy_score(y_test, y_pred)"
      ],
      "execution_count": null,
      "outputs": [
        {
          "output_type": "stream",
          "text": [
            "[[6 0 0]\n",
            " [0 2 1]\n",
            " [0 0 6]]\n"
          ],
          "name": "stdout"
        },
        {
          "output_type": "execute_result",
          "data": {
            "text/plain": [
              "0.9333333333333333"
            ]
          },
          "metadata": {
            "tags": []
          },
          "execution_count": 54
        }
      ]
    },
    {
      "cell_type": "code",
      "metadata": {
        "colab": {
          "base_uri": "https://localhost:8080/",
          "height": 887
        },
        "id": "lCf3i6qQrSNE",
        "outputId": "ce800e9e-060c-4a51-a4de-9b756806f73d"
      },
      "source": [
        "plt.figure(figsize=(25,20))\r\n",
        "clf = DecisionTreeClassifier().fit(X, y)\r\n",
        "plot_tree(clf, filled=True)\r\n",
        "plt.show()"
      ],
      "execution_count": null,
      "outputs": [
        {
          "output_type": "display_data",
          "data": {
            "image/png": "[encoded data removed]",
            "text/plain": [
              "<Figure size 1800x1440 with 1 Axes>"
            ]
          },
          "metadata": {
            "tags": [],
            "needs_background": "light"
          }
        }
      ]
    },
    {
      "cell_type": "code",
      "metadata": {
        "id": "3LvZiOUrsXwl"
      },
      "source": [
        "from sklearn.tree import export_text"
      ],
      "execution_count": null,
      "outputs": []
    },
    {
      "cell_type": "code",
      "metadata": {
        "id": "YT4o9-sPucqz"
      },
      "source": [
        "from sklearn import tree"
      ],
      "execution_count": null,
      "outputs": []
    },
    {
      "cell_type": "code",
      "metadata": {
        "colab": {
          "base_uri": "https://localhost:8080/"
        },
        "id": "mCfLcUaOuH_r",
        "outputId": "dcc61d5f-9bed-40a6-90b4-de2e6ac2944f"
      },
      "source": [
        "text_representation = tree.export_text(clf)\r\n",
        "print(text_representation)"
      ],
      "execution_count": null,
      "outputs": [
        {
          "output_type": "stream",
          "text": [
            "|--- feature_2 <= 2.45\n",
            "|   |--- class: 0\n",
            "|--- feature_2 >  2.45\n",
            "|   |--- feature_3 <= 1.75\n",
            "|   |   |--- feature_2 <= 4.95\n",
            "|   |   |   |--- feature_3 <= 1.65\n",
            "|   |   |   |   |--- class: 1\n",
            "|   |   |   |--- feature_3 >  1.65\n",
            "|   |   |   |   |--- class: 2\n",
            "|   |   |--- feature_2 >  4.95\n",
            "|   |   |   |--- feature_3 <= 1.55\n",
            "|   |   |   |   |--- class: 2\n",
            "|   |   |   |--- feature_3 >  1.55\n",
            "|   |   |   |   |--- feature_0 <= 6.95\n",
            "|   |   |   |   |   |--- class: 1\n",
            "|   |   |   |   |--- feature_0 >  6.95\n",
            "|   |   |   |   |   |--- class: 2\n",
            "|   |--- feature_3 >  1.75\n",
            "|   |   |--- feature_2 <= 4.85\n",
            "|   |   |   |--- feature_1 <= 3.10\n",
            "|   |   |   |   |--- class: 2\n",
            "|   |   |   |--- feature_1 >  3.10\n",
            "|   |   |   |   |--- class: 1\n",
            "|   |   |--- feature_2 >  4.85\n",
            "|   |   |   |--- class: 2\n",
            "\n"
          ],
          "name": "stdout"
        }
      ]
    }
  ]
}